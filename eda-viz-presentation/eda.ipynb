{
 "cells": [
  {
   "cell_type": "code",
   "execution_count": 1,
   "metadata": {
    "collapsed": false
   },
   "outputs": [],
   "source": [
    "from __future__ import division\n",
    "import pandas as pd\n",
    "import matplotlib.pyplot as plt\n",
    "import matplotlib\n",
    "import numpy as np\n",
    "from scipy.stats import pearsonr\n",
    "import qgrid\n",
    "from ipywidgets import interact, interactive, fixed\n",
    "import ipywidgets as widgets\n",
    "qgrid.nbinstall()\n",
    "%matplotlib inline\n",
    "plt.style.use(u'fivethirtyeight')"
   ]
  },
  {
   "cell_type": "raw",
   "metadata": {},
   "source": [
    "Title:  Exploratory Data Analysis and the Power of Data Visualization\n",
    "Author: Fernando Gelin\n",
    "Date:   July 27, 2016  "
   ]
  },
  {
   "cell_type": "markdown",
   "metadata": {},
   "source": [
    "# Power of Data Visualization"
   ]
  },
  {
   "cell_type": "markdown",
   "metadata": {},
   "source": [
    "### EDA"
   ]
  },
  {
   "cell_type": "markdown",
   "metadata": {},
   "source": [
    "- Data Analysis: process of transforming raw data into useful information.\n",
    "- Steps: data collection -> data cleaning -> some analysis -> insights/usefil information\n",
    "- Analysis: Descriptive Statistics, EDA, CDA"
   ]
  },
  {
   "cell_type": "code",
   "execution_count": 2,
   "metadata": {
    "collapsed": false
   },
   "outputs": [],
   "source": [
    "x = np.array([0, 10])\n",
    "y = np.array([0.5, 39.5])\n",
    "means = [x.mean(), y.mean()]  \n",
    "stds = [x.std() / 3, y.std() / 3]\n",
    "corr = 0.4      # correlation\n",
    "covs = [[stds[0]**2          , stds[0]*stds[1]*corr], \n",
    "        [stds[0]*stds[1]*corr,           stds[1]**2]] \n",
    "\n",
    "m = np.random.multivariate_normal(means, covs, 1000).T\n",
    "df = pd.DataFrame(m).T\n",
    "df.columns = ['x','y']"
   ]
  },
  {
   "cell_type": "markdown",
   "metadata": {},
   "source": [
    "Descriptive Statistics"
   ]
  },
  {
   "cell_type": "code",
   "execution_count": 3,
   "metadata": {
    "collapsed": false
   },
   "outputs": [
    {
     "data": {
      "text/html": [
       "<div>\n",
       "<table border=\"1\" class=\"dataframe\">\n",
       "  <thead>\n",
       "    <tr style=\"text-align: right;\">\n",
       "      <th></th>\n",
       "      <th>x</th>\n",
       "      <th>y</th>\n",
       "    </tr>\n",
       "  </thead>\n",
       "  <tbody>\n",
       "    <tr>\n",
       "      <th>0</th>\n",
       "      <td>5.591261</td>\n",
       "      <td>17.343757</td>\n",
       "    </tr>\n",
       "    <tr>\n",
       "      <th>1</th>\n",
       "      <td>5.621236</td>\n",
       "      <td>24.602229</td>\n",
       "    </tr>\n",
       "    <tr>\n",
       "      <th>2</th>\n",
       "      <td>6.891088</td>\n",
       "      <td>28.177843</td>\n",
       "    </tr>\n",
       "    <tr>\n",
       "      <th>3</th>\n",
       "      <td>6.604349</td>\n",
       "      <td>13.833174</td>\n",
       "    </tr>\n",
       "    <tr>\n",
       "      <th>4</th>\n",
       "      <td>4.988633</td>\n",
       "      <td>7.873327</td>\n",
       "    </tr>\n",
       "  </tbody>\n",
       "</table>\n",
       "</div>"
      ],
      "text/plain": [
       "          x          y\n",
       "0  5.591261  17.343757\n",
       "1  5.621236  24.602229\n",
       "2  6.891088  28.177843\n",
       "3  6.604349  13.833174\n",
       "4  4.988633   7.873327"
      ]
     },
     "execution_count": 3,
     "metadata": {},
     "output_type": "execute_result"
    }
   ],
   "source": [
    "df.head()"
   ]
  },
  {
   "cell_type": "code",
   "execution_count": 4,
   "metadata": {
    "collapsed": false
   },
   "outputs": [
    {
     "data": {
      "text/html": [
       "<div>\n",
       "<table border=\"1\" class=\"dataframe\">\n",
       "  <thead>\n",
       "    <tr style=\"text-align: right;\">\n",
       "      <th></th>\n",
       "      <th>x</th>\n",
       "      <th>y</th>\n",
       "    </tr>\n",
       "  </thead>\n",
       "  <tbody>\n",
       "    <tr>\n",
       "      <th>count</th>\n",
       "      <td>1000.000000</td>\n",
       "      <td>1000.000000</td>\n",
       "    </tr>\n",
       "    <tr>\n",
       "      <th>mean</th>\n",
       "      <td>4.963562</td>\n",
       "      <td>20.075749</td>\n",
       "    </tr>\n",
       "    <tr>\n",
       "      <th>std</th>\n",
       "      <td>1.654148</td>\n",
       "      <td>6.538199</td>\n",
       "    </tr>\n",
       "    <tr>\n",
       "      <th>min</th>\n",
       "      <td>-1.530644</td>\n",
       "      <td>0.497213</td>\n",
       "    </tr>\n",
       "    <tr>\n",
       "      <th>25%</th>\n",
       "      <td>3.855417</td>\n",
       "      <td>15.641505</td>\n",
       "    </tr>\n",
       "    <tr>\n",
       "      <th>50%</th>\n",
       "      <td>4.880847</td>\n",
       "      <td>20.232185</td>\n",
       "    </tr>\n",
       "    <tr>\n",
       "      <th>75%</th>\n",
       "      <td>6.121408</td>\n",
       "      <td>24.302533</td>\n",
       "    </tr>\n",
       "    <tr>\n",
       "      <th>max</th>\n",
       "      <td>9.826734</td>\n",
       "      <td>40.668205</td>\n",
       "    </tr>\n",
       "  </tbody>\n",
       "</table>\n",
       "</div>"
      ],
      "text/plain": [
       "                 x            y\n",
       "count  1000.000000  1000.000000\n",
       "mean      4.963562    20.075749\n",
       "std       1.654148     6.538199\n",
       "min      -1.530644     0.497213\n",
       "25%       3.855417    15.641505\n",
       "50%       4.880847    20.232185\n",
       "75%       6.121408    24.302533\n",
       "max       9.826734    40.668205"
      ]
     },
     "execution_count": 4,
     "metadata": {},
     "output_type": "execute_result"
    }
   ],
   "source": [
    "df.describe()"
   ]
  },
  {
   "cell_type": "code",
   "execution_count": 5,
   "metadata": {
    "collapsed": false
   },
   "outputs": [
    {
     "data": {
      "text/plain": [
       "<matplotlib.axes._subplots.AxesSubplot at 0x10ec2c390>"
      ]
     },
     "execution_count": 5,
     "metadata": {},
     "output_type": "execute_result"
    },
    {
     "data": {
      "image/png": "[encoded data removed]",
      "text/plain": [
       "<matplotlib.figure.Figure at 0x10ec0cfd0>"
      ]
     },
     "metadata": {},
     "output_type": "display_data"
    }
   ],
   "source": [
    "df.boxplot(return_type='axes')"
   ]
  },
  {
   "cell_type": "code",
   "execution_count": 6,
   "metadata": {
    "collapsed": false
   },
   "outputs": [],
   "source": [
    "slope, intercept = np.polyfit(df['x'], df['y'], 1)\n",
    "x = np.linspace(0, 10, 10)\n",
    "y = intercept + slope * x"
   ]
  },
  {
   "cell_type": "code",
   "execution_count": 7,
   "metadata": {
    "collapsed": false
   },
   "outputs": [
    {
     "data": {
      "text/plain": [
       "<matplotlib.collections.PathCollection at 0x111e2c990>"
      ]
     },
     "execution_count": 7,
     "metadata": {},
     "output_type": "execute_result"
    },
    {
     "data": {
      "image/png": "[encoded data removed]",
      "text/plain": [
       "<matplotlib.figure.Figure at 0x111c54ed0>"
      ]
     },
     "metadata": {},
     "output_type": "display_data"
    }
   ],
   "source": [
    "plt.scatter(df['x'], df['y'], color='black')"
   ]
  },
  {
   "cell_type": "code",
   "execution_count": 8,
   "metadata": {
    "collapsed": false
   },
   "outputs": [
    {
     "data": {
      "text/plain": [
       "[<matplotlib.lines.Line2D at 0x111cad890>]"
      ]
     },
     "execution_count": 8,
     "metadata": {},
     "output_type": "execute_result"
    },
    {
     "data": {
      "image/png": "[encoded data removed]",
      "text/plain": [
       "<matplotlib.figure.Figure at 0x111cada10>"
      ]
     },
     "metadata": {},
     "output_type": "display_data"
    }
   ],
   "source": [
    "plt.scatter(df['x'], df['y'], color='black')\n",
    "plt.plot(x, slope * x + intercept, color='gray')"
   ]
  },
  {
   "cell_type": "markdown",
   "metadata": {},
   "source": [
    "Confirmatory Data Analysis"
   ]
  },
  {
   "cell_type": "code",
   "execution_count": 9,
   "metadata": {
    "collapsed": false
   },
   "outputs": [
    {
     "data": {
      "text/plain": [
       "(0.35546054386803683, 3.761661235589904e-31)"
      ]
     },
     "execution_count": 9,
     "metadata": {},
     "output_type": "execute_result"
    }
   ],
   "source": [
    "pearsonr(df['x'], df['y'])"
   ]
  },
  {
   "cell_type": "markdown",
   "metadata": {},
   "source": [
    "#### EDA: \n",
    "- normaly includes descriptive statistics\n",
    "- does not involve hypothesis testing\n",
    "- highly graphical\n",
    "- iterative and interactive\n",
    "- discover patterns from data\n",
    "- make hypotheses based on patterns discovered\n",
    "- identify and handle missing data"
   ]
  },
  {
   "cell_type": "markdown",
   "metadata": {},
   "source": [
    "##### Case Study 1: Cigarette Sales in the US  \n",
    "##### Case Study 2: Seattle Bike Share"
   ]
  },
  {
   "cell_type": "markdown",
   "metadata": {},
   "source": [
    "## Power of Data Visualization"
   ]
  },
  {
   "cell_type": "markdown",
   "metadata": {},
   "source": [
    "Goals\n",
    "- sense-making: Discover (EDA) and understand stories\n",
    "- communication: Tell a story"
   ]
  },
  {
   "cell_type": "markdown",
   "metadata": {},
   "source": [
    "Good Visualization take into account:\n",
    "- visual perception and cognition\n",
    "- design principles that derive from human perception"
   ]
  },
  {
   "cell_type": "code",
   "execution_count": 10,
   "metadata": {
    "collapsed": false
   },
   "outputs": [
    {
     "name": "stderr",
     "output_type": "stream",
     "text": [
      "/Users/fernandogelin/anaconda/lib/python2.7/site-packages/matplotlib/__init__.py:872: UserWarning: axes.color_cycle is deprecated and replaced with axes.prop_cycle; please use the latter.\n",
      "  warnings.warn(self.msg_depr % (key, alt_key))\n"
     ]
    },
    {
     "data": {
      "text/html": [
       "\n",
       "    <div class=\"bk-root\">\n",
       "        <a href=\"http://bokeh.pydata.org\" target=\"_blank\" class=\"bk-logo bk-logo-small bk-logo-notebook\"></a>\n",
       "        <span id=\"f488cb27-a74d-495b-9d7f-59d3e8910dba\">Loading BokehJS ...</span>\n",
       "    </div>"
      ]
     },
     "metadata": {},
     "output_type": "display_data"
    },
    {
     "data": {
      "application/javascript": [
       "\n",
       "(function(global) {\n",
       "  function now() {\n",
       "    return new Date();\n",
       "  }\n",
       "\n",
       "  if (typeof (window._bokeh_onload_callbacks) === \"undefined\") {\n",
       "    window._bokeh_onload_callbacks = [];\n",
       "  }\n",
       "\n",
       "  function run_callbacks() {\n",
       "    window._bokeh_onload_callbacks.forEach(function(callback) { callback() });\n",
       "    delete window._bokeh_onload_callbacks\n",
       "    console.info(\"Bokeh: all callbacks have finished\");\n",
       "  }\n",
       "\n",
       "  function load_libs(js_urls, callback) {\n",
       "    window._bokeh_onload_callbacks.push(callback);\n",
       "    if (window._bokeh_is_loading > 0) {\n",
       "      console.log(\"Bokeh: BokehJS is being loaded, scheduling callback at\", now());\n",
       "      return null;\n",
       "    }\n",
       "    if (js_urls == null || js_urls.length === 0) {\n",
       "      run_callbacks();\n",
       "      return null;\n",
       "    }\n",
       "    console.log(\"Bokeh: BokehJS not loaded, scheduling load and callback at\", now());\n",
       "    window._bokeh_is_loading = js_urls.length;\n",
       "    for (var i = 0; i < js_urls.length; i++) {\n",
       "      var url = js_urls[i];\n",
       "      var s = document.createElement('script');\n",
       "      s.src = url;\n",
       "      s.async = false;\n",
       "      s.onreadystatechange = s.onload = function() {\n",
       "        window._bokeh_is_loading--;\n",
       "        if (window._bokeh_is_loading === 0) {\n",
       "          console.log(\"Bokeh: all BokehJS libraries loaded\");\n",
       "          run_callbacks()\n",
       "        }\n",
       "      };\n",
       "      s.onerror = function() {\n",
       "        console.warn(\"failed to load library \" + url);\n",
       "      };\n",
       "      console.log(\"Bokeh: injecting script tag for BokehJS library: \", url);\n",
       "      document.getElementsByTagName(\"head\")[0].appendChild(s);\n",
       "    }\n",
       "  };\n",
       "\n",
       "  var js_urls = ['https://cdn.pydata.org/bokeh/release/bokeh-0.12.0.min.js', 'https://cdn.pydata.org/bokeh/release/bokeh-widgets-0.12.0.min.js', 'https://cdn.pydata.org/bokeh/release/bokeh-compiler-0.12.0.min.js'];\n",
       "\n",
       "  var inline_js = [\n",
       "    function(Bokeh) {\n",
       "      Bokeh.set_log_level(\"info\");\n",
       "    },\n",
       "    \n",
       "    function(Bokeh) {\n",
       "      Bokeh.$(\"#f488cb27-a74d-495b-9d7f-59d3e8910dba\").text(\"BokehJS successfully loaded\");\n",
       "    },\n",
       "    function(Bokeh) {\n",
       "      console.log(\"Bokeh: injecting CSS: https://cdn.pydata.org/bokeh/release/bokeh-0.12.0.min.css\");\n",
       "      Bokeh.embed.inject_css(\"https://cdn.pydata.org/bokeh/release/bokeh-0.12.0.min.css\");\n",
       "      console.log(\"Bokeh: injecting CSS: https://cdn.pydata.org/bokeh/release/bokeh-widgets-0.12.0.min.css\");\n",
       "      Bokeh.embed.inject_css(\"https://cdn.pydata.org/bokeh/release/bokeh-widgets-0.12.0.min.css\");\n",
       "    }\n",
       "  ];\n",
       "\n",
       "  function run_inline_js() {\n",
       "    for (var i = 0; i < inline_js.length; i++) {\n",
       "      inline_js[i](window.Bokeh);\n",
       "    }\n",
       "  }\n",
       "\n",
       "  if (window._bokeh_is_loading === 0) {\n",
       "    console.log(\"Bokeh: BokehJS loaded, going straight to plotting\");\n",
       "    run_inline_js();\n",
       "  } else {\n",
       "    load_libs(js_urls, function() {\n",
       "      console.log(\"Bokeh: BokehJS plotting callback run at\", now());\n",
       "      run_inline_js();\n",
       "    });\n",
       "  }\n",
       "}(this));"
      ]
     },
     "metadata": {},
     "output_type": "display_data"
    }
   ],
   "source": [
    "from __future__ import print_function\n",
    "\n",
    "import numpy as np\n",
    "import pandas as pd\n",
    "import seaborn as sns\n",
    "\n",
    "from bokeh.embed import file_html\n",
    "from bokeh.layouts import gridplot\n",
    "from bokeh.models.glyphs import Circle, Line\n",
    "from bokeh.models import ColumnDataSource, Grid, LinearAxis, Plot, Range1d\n",
    "from bokeh.plotting import output_notebook, show, figure, output_file, save\n",
    "output_notebook()"
   ]
  },
  {
   "cell_type": "code",
   "execution_count": 11,
   "metadata": {
    "collapsed": true
   },
   "outputs": [],
   "source": [
    "raw_columns=[\n",
    "[10.0,   8.04,   10.0,   9.14,   10.0,   7.46,   8.0,    6.58],\n",
    "[8.0,    6.95,   8.0,    8.14,   8.0,    6.77,   8.0,    5.76],\n",
    "[13.0,   7.58,   13.0,   8.74,   13.0,   12.74,  8.0,    7.71],\n",
    "[9.0,    8.81,   9.0,    8.77,   9.0,    7.11,   8.0,    8.84],\n",
    "[11.0,   8.33,   11.0,   9.26,   11.0,   7.81,   8.0,    8.47],\n",
    "[14.0,   9.96,   14.0,   8.10,   14.0,   8.84,   8.0,    7.04],\n",
    "[6.0,    7.24,   6.0,    6.13,   6.0,    6.08,   8.0,    5.25],\n",
    "[4.0,    4.26,   4.0,    3.10,   4.0,    5.39,   19.0,   12.5],\n",
    "[12.0,   10.84,  12.0,   9.13,   12.0,   8.15,   8.0,    5.56],\n",
    "[7.0,    4.82,   7.0,    7.26,   7.0,    6.42,   8.0,    7.91],\n",
    "[5.0,    5.68,   5.0,    4.74,   5.0,    5.73,   8.0,    6.89]]\n",
    "\n",
    "quartet = pd.DataFrame(data=raw_columns, columns=\n",
    "                       ['Ix','Iy','IIx','IIy','IIIx','IIIy','IVx','IVy'])"
   ]
  },
  {
   "cell_type": "code",
   "execution_count": 12,
   "metadata": {
    "collapsed": false
   },
   "outputs": [
    {
     "data": {
      "text/html": [
       "<div>\n",
       "<table border=\"1\" class=\"dataframe\">\n",
       "  <thead>\n",
       "    <tr style=\"text-align: right;\">\n",
       "      <th></th>\n",
       "      <th>Ix</th>\n",
       "      <th>Iy</th>\n",
       "    </tr>\n",
       "  </thead>\n",
       "  <tbody>\n",
       "    <tr>\n",
       "      <th>0</th>\n",
       "      <td>10</td>\n",
       "      <td>8.04</td>\n",
       "    </tr>\n",
       "    <tr>\n",
       "      <th>1</th>\n",
       "      <td>8</td>\n",
       "      <td>6.95</td>\n",
       "    </tr>\n",
       "    <tr>\n",
       "      <th>2</th>\n",
       "      <td>13</td>\n",
       "      <td>7.58</td>\n",
       "    </tr>\n",
       "    <tr>\n",
       "      <th>3</th>\n",
       "      <td>9</td>\n",
       "      <td>8.81</td>\n",
       "    </tr>\n",
       "    <tr>\n",
       "      <th>4</th>\n",
       "      <td>11</td>\n",
       "      <td>8.33</td>\n",
       "    </tr>\n",
       "    <tr>\n",
       "      <th>5</th>\n",
       "      <td>14</td>\n",
       "      <td>9.96</td>\n",
       "    </tr>\n",
       "    <tr>\n",
       "      <th>6</th>\n",
       "      <td>6</td>\n",
       "      <td>7.24</td>\n",
       "    </tr>\n",
       "    <tr>\n",
       "      <th>7</th>\n",
       "      <td>4</td>\n",
       "      <td>4.26</td>\n",
       "    </tr>\n",
       "    <tr>\n",
       "      <th>8</th>\n",
       "      <td>12</td>\n",
       "      <td>10.84</td>\n",
       "    </tr>\n",
       "    <tr>\n",
       "      <th>9</th>\n",
       "      <td>7</td>\n",
       "      <td>4.82</td>\n",
       "    </tr>\n",
       "    <tr>\n",
       "      <th>10</th>\n",
       "      <td>5</td>\n",
       "      <td>5.68</td>\n",
       "    </tr>\n",
       "  </tbody>\n",
       "</table>\n",
       "</div>"
      ],
      "text/plain": [
       "    Ix     Iy\n",
       "0   10   8.04\n",
       "1    8   6.95\n",
       "2   13   7.58\n",
       "3    9   8.81\n",
       "4   11   8.33\n",
       "5   14   9.96\n",
       "6    6   7.24\n",
       "7    4   4.26\n",
       "8   12  10.84\n",
       "9    7   4.82\n",
       "10   5   5.68"
      ]
     },
     "execution_count": 12,
     "metadata": {},
     "output_type": "execute_result"
    }
   ],
   "source": [
    "quartet[['Ix', 'Iy']]"
   ]
  },
  {
   "cell_type": "code",
   "execution_count": 13,
   "metadata": {
    "collapsed": false
   },
   "outputs": [
    {
     "data": {
      "text/html": [
       "<div>\n",
       "<table border=\"1\" class=\"dataframe\">\n",
       "  <thead>\n",
       "    <tr style=\"text-align: right;\">\n",
       "      <th></th>\n",
       "      <th>IIx</th>\n",
       "      <th>IIy</th>\n",
       "    </tr>\n",
       "  </thead>\n",
       "  <tbody>\n",
       "    <tr>\n",
       "      <th>0</th>\n",
       "      <td>10</td>\n",
       "      <td>9.14</td>\n",
       "    </tr>\n",
       "    <tr>\n",
       "      <th>1</th>\n",
       "      <td>8</td>\n",
       "      <td>8.14</td>\n",
       "    </tr>\n",
       "    <tr>\n",
       "      <th>2</th>\n",
       "      <td>13</td>\n",
       "      <td>8.74</td>\n",
       "    </tr>\n",
       "    <tr>\n",
       "      <th>3</th>\n",
       "      <td>9</td>\n",
       "      <td>8.77</td>\n",
       "    </tr>\n",
       "    <tr>\n",
       "      <th>4</th>\n",
       "      <td>11</td>\n",
       "      <td>9.26</td>\n",
       "    </tr>\n",
       "    <tr>\n",
       "      <th>5</th>\n",
       "      <td>14</td>\n",
       "      <td>8.10</td>\n",
       "    </tr>\n",
       "    <tr>\n",
       "      <th>6</th>\n",
       "      <td>6</td>\n",
       "      <td>6.13</td>\n",
       "    </tr>\n",
       "    <tr>\n",
       "      <th>7</th>\n",
       "      <td>4</td>\n",
       "      <td>3.10</td>\n",
       "    </tr>\n",
       "    <tr>\n",
       "      <th>8</th>\n",
       "      <td>12</td>\n",
       "      <td>9.13</td>\n",
       "    </tr>\n",
       "    <tr>\n",
       "      <th>9</th>\n",
       "      <td>7</td>\n",
       "      <td>7.26</td>\n",
       "    </tr>\n",
       "    <tr>\n",
       "      <th>10</th>\n",
       "      <td>5</td>\n",
       "      <td>4.74</td>\n",
       "    </tr>\n",
       "  </tbody>\n",
       "</table>\n",
       "</div>"
      ],
      "text/plain": [
       "    IIx   IIy\n",
       "0    10  9.14\n",
       "1     8  8.14\n",
       "2    13  8.74\n",
       "3     9  8.77\n",
       "4    11  9.26\n",
       "5    14  8.10\n",
       "6     6  6.13\n",
       "7     4  3.10\n",
       "8    12  9.13\n",
       "9     7  7.26\n",
       "10    5  4.74"
      ]
     },
     "execution_count": 13,
     "metadata": {},
     "output_type": "execute_result"
    }
   ],
   "source": [
    "quartet[['IIx', 'IIy']]"
   ]
  },
  {
   "cell_type": "code",
   "execution_count": 14,
   "metadata": {
    "collapsed": false
   },
   "outputs": [
    {
     "data": {
      "text/html": [
       "<div>\n",
       "<table border=\"1\" class=\"dataframe\">\n",
       "  <thead>\n",
       "    <tr style=\"text-align: right;\">\n",
       "      <th></th>\n",
       "      <th>IIIx</th>\n",
       "      <th>IIIy</th>\n",
       "    </tr>\n",
       "  </thead>\n",
       "  <tbody>\n",
       "    <tr>\n",
       "      <th>0</th>\n",
       "      <td>10</td>\n",
       "      <td>7.46</td>\n",
       "    </tr>\n",
       "    <tr>\n",
       "      <th>1</th>\n",
       "      <td>8</td>\n",
       "      <td>6.77</td>\n",
       "    </tr>\n",
       "    <tr>\n",
       "      <th>2</th>\n",
       "      <td>13</td>\n",
       "      <td>12.74</td>\n",
       "    </tr>\n",
       "    <tr>\n",
       "      <th>3</th>\n",
       "      <td>9</td>\n",
       "      <td>7.11</td>\n",
       "    </tr>\n",
       "    <tr>\n",
       "      <th>4</th>\n",
       "      <td>11</td>\n",
       "      <td>7.81</td>\n",
       "    </tr>\n",
       "    <tr>\n",
       "      <th>5</th>\n",
       "      <td>14</td>\n",
       "      <td>8.84</td>\n",
       "    </tr>\n",
       "    <tr>\n",
       "      <th>6</th>\n",
       "      <td>6</td>\n",
       "      <td>6.08</td>\n",
       "    </tr>\n",
       "    <tr>\n",
       "      <th>7</th>\n",
       "      <td>4</td>\n",
       "      <td>5.39</td>\n",
       "    </tr>\n",
       "    <tr>\n",
       "      <th>8</th>\n",
       "      <td>12</td>\n",
       "      <td>8.15</td>\n",
       "    </tr>\n",
       "    <tr>\n",
       "      <th>9</th>\n",
       "      <td>7</td>\n",
       "      <td>6.42</td>\n",
       "    </tr>\n",
       "    <tr>\n",
       "      <th>10</th>\n",
       "      <td>5</td>\n",
       "      <td>5.73</td>\n",
       "    </tr>\n",
       "  </tbody>\n",
       "</table>\n",
       "</div>"
      ],
      "text/plain": [
       "    IIIx   IIIy\n",
       "0     10   7.46\n",
       "1      8   6.77\n",
       "2     13  12.74\n",
       "3      9   7.11\n",
       "4     11   7.81\n",
       "5     14   8.84\n",
       "6      6   6.08\n",
       "7      4   5.39\n",
       "8     12   8.15\n",
       "9      7   6.42\n",
       "10     5   5.73"
      ]
     },
     "execution_count": 14,
     "metadata": {},
     "output_type": "execute_result"
    }
   ],
   "source": [
    "quartet[['IIIx', 'IIIy']]"
   ]
  },
  {
   "cell_type": "code",
   "execution_count": 15,
   "metadata": {
    "collapsed": false
   },
   "outputs": [
    {
     "data": {
      "text/html": [
       "<div>\n",
       "<table border=\"1\" class=\"dataframe\">\n",
       "  <thead>\n",
       "    <tr style=\"text-align: right;\">\n",
       "      <th></th>\n",
       "      <th>IVx</th>\n",
       "      <th>IVy</th>\n",
       "    </tr>\n",
       "  </thead>\n",
       "  <tbody>\n",
       "    <tr>\n",
       "      <th>0</th>\n",
       "      <td>8</td>\n",
       "      <td>6.58</td>\n",
       "    </tr>\n",
       "    <tr>\n",
       "      <th>1</th>\n",
       "      <td>8</td>\n",
       "      <td>5.76</td>\n",
       "    </tr>\n",
       "    <tr>\n",
       "      <th>2</th>\n",
       "      <td>8</td>\n",
       "      <td>7.71</td>\n",
       "    </tr>\n",
       "    <tr>\n",
       "      <th>3</th>\n",
       "      <td>8</td>\n",
       "      <td>8.84</td>\n",
       "    </tr>\n",
       "    <tr>\n",
       "      <th>4</th>\n",
       "      <td>8</td>\n",
       "      <td>8.47</td>\n",
       "    </tr>\n",
       "    <tr>\n",
       "      <th>5</th>\n",
       "      <td>8</td>\n",
       "      <td>7.04</td>\n",
       "    </tr>\n",
       "    <tr>\n",
       "      <th>6</th>\n",
       "      <td>8</td>\n",
       "      <td>5.25</td>\n",
       "    </tr>\n",
       "    <tr>\n",
       "      <th>7</th>\n",
       "      <td>19</td>\n",
       "      <td>12.50</td>\n",
       "    </tr>\n",
       "    <tr>\n",
       "      <th>8</th>\n",
       "      <td>8</td>\n",
       "      <td>5.56</td>\n",
       "    </tr>\n",
       "    <tr>\n",
       "      <th>9</th>\n",
       "      <td>8</td>\n",
       "      <td>7.91</td>\n",
       "    </tr>\n",
       "    <tr>\n",
       "      <th>10</th>\n",
       "      <td>8</td>\n",
       "      <td>6.89</td>\n",
       "    </tr>\n",
       "  </tbody>\n",
       "</table>\n",
       "</div>"
      ],
      "text/plain": [
       "    IVx    IVy\n",
       "0     8   6.58\n",
       "1     8   5.76\n",
       "2     8   7.71\n",
       "3     8   8.84\n",
       "4     8   8.47\n",
       "5     8   7.04\n",
       "6     8   5.25\n",
       "7    19  12.50\n",
       "8     8   5.56\n",
       "9     8   7.91\n",
       "10    8   6.89"
      ]
     },
     "execution_count": 15,
     "metadata": {},
     "output_type": "execute_result"
    }
   ],
   "source": [
    "quartet[['IVx', 'IVy']]"
   ]
  },
  {
   "cell_type": "code",
   "execution_count": 16,
   "metadata": {
    "collapsed": false
   },
   "outputs": [
    {
     "data": {
      "text/html": [
       "<div>\n",
       "<table border=\"1\" class=\"dataframe\">\n",
       "  <thead>\n",
       "    <tr style=\"text-align: right;\">\n",
       "      <th></th>\n",
       "      <th>Ix</th>\n",
       "      <th>Iy</th>\n",
       "    </tr>\n",
       "  </thead>\n",
       "  <tbody>\n",
       "    <tr>\n",
       "      <th>count</th>\n",
       "      <td>11.000000</td>\n",
       "      <td>11.000000</td>\n",
       "    </tr>\n",
       "    <tr>\n",
       "      <th>mean</th>\n",
       "      <td>9.000000</td>\n",
       "      <td>7.500909</td>\n",
       "    </tr>\n",
       "    <tr>\n",
       "      <th>std</th>\n",
       "      <td>3.316625</td>\n",
       "      <td>2.031568</td>\n",
       "    </tr>\n",
       "    <tr>\n",
       "      <th>min</th>\n",
       "      <td>4.000000</td>\n",
       "      <td>4.260000</td>\n",
       "    </tr>\n",
       "    <tr>\n",
       "      <th>25%</th>\n",
       "      <td>6.500000</td>\n",
       "      <td>6.315000</td>\n",
       "    </tr>\n",
       "    <tr>\n",
       "      <th>50%</th>\n",
       "      <td>9.000000</td>\n",
       "      <td>7.580000</td>\n",
       "    </tr>\n",
       "    <tr>\n",
       "      <th>75%</th>\n",
       "      <td>11.500000</td>\n",
       "      <td>8.570000</td>\n",
       "    </tr>\n",
       "    <tr>\n",
       "      <th>max</th>\n",
       "      <td>14.000000</td>\n",
       "      <td>10.840000</td>\n",
       "    </tr>\n",
       "  </tbody>\n",
       "</table>\n",
       "</div>"
      ],
      "text/plain": [
       "              Ix         Iy\n",
       "count  11.000000  11.000000\n",
       "mean    9.000000   7.500909\n",
       "std     3.316625   2.031568\n",
       "min     4.000000   4.260000\n",
       "25%     6.500000   6.315000\n",
       "50%     9.000000   7.580000\n",
       "75%    11.500000   8.570000\n",
       "max    14.000000  10.840000"
      ]
     },
     "execution_count": 16,
     "metadata": {},
     "output_type": "execute_result"
    }
   ],
   "source": [
    "quartet[['Ix', 'Iy']].describe()"
   ]
  },
  {
   "cell_type": "code",
   "execution_count": 17,
   "metadata": {
    "collapsed": false
   },
   "outputs": [
    {
     "data": {
      "text/html": [
       "<div>\n",
       "<table border=\"1\" class=\"dataframe\">\n",
       "  <thead>\n",
       "    <tr style=\"text-align: right;\">\n",
       "      <th></th>\n",
       "      <th>IIx</th>\n",
       "      <th>IIy</th>\n",
       "    </tr>\n",
       "  </thead>\n",
       "  <tbody>\n",
       "    <tr>\n",
       "      <th>count</th>\n",
       "      <td>11.000000</td>\n",
       "      <td>11.000000</td>\n",
       "    </tr>\n",
       "    <tr>\n",
       "      <th>mean</th>\n",
       "      <td>9.000000</td>\n",
       "      <td>7.500909</td>\n",
       "    </tr>\n",
       "    <tr>\n",
       "      <th>std</th>\n",
       "      <td>3.316625</td>\n",
       "      <td>2.031657</td>\n",
       "    </tr>\n",
       "    <tr>\n",
       "      <th>min</th>\n",
       "      <td>4.000000</td>\n",
       "      <td>3.100000</td>\n",
       "    </tr>\n",
       "    <tr>\n",
       "      <th>25%</th>\n",
       "      <td>6.500000</td>\n",
       "      <td>6.695000</td>\n",
       "    </tr>\n",
       "    <tr>\n",
       "      <th>50%</th>\n",
       "      <td>9.000000</td>\n",
       "      <td>8.140000</td>\n",
       "    </tr>\n",
       "    <tr>\n",
       "      <th>75%</th>\n",
       "      <td>11.500000</td>\n",
       "      <td>8.950000</td>\n",
       "    </tr>\n",
       "    <tr>\n",
       "      <th>max</th>\n",
       "      <td>14.000000</td>\n",
       "      <td>9.260000</td>\n",
       "    </tr>\n",
       "  </tbody>\n",
       "</table>\n",
       "</div>"
      ],
      "text/plain": [
       "             IIx        IIy\n",
       "count  11.000000  11.000000\n",
       "mean    9.000000   7.500909\n",
       "std     3.316625   2.031657\n",
       "min     4.000000   3.100000\n",
       "25%     6.500000   6.695000\n",
       "50%     9.000000   8.140000\n",
       "75%    11.500000   8.950000\n",
       "max    14.000000   9.260000"
      ]
     },
     "execution_count": 17,
     "metadata": {},
     "output_type": "execute_result"
    }
   ],
   "source": [
    "quartet[['IIx', 'IIy']].describe()"
   ]
  },
  {
   "cell_type": "code",
   "execution_count": 18,
   "metadata": {
    "collapsed": false
   },
   "outputs": [
    {
     "data": {
      "text/html": [
       "<div>\n",
       "<table border=\"1\" class=\"dataframe\">\n",
       "  <thead>\n",
       "    <tr style=\"text-align: right;\">\n",
       "      <th></th>\n",
       "      <th>IIIx</th>\n",
       "      <th>IIIy</th>\n",
       "    </tr>\n",
       "  </thead>\n",
       "  <tbody>\n",
       "    <tr>\n",
       "      <th>count</th>\n",
       "      <td>11.000000</td>\n",
       "      <td>11.000000</td>\n",
       "    </tr>\n",
       "    <tr>\n",
       "      <th>mean</th>\n",
       "      <td>9.000000</td>\n",
       "      <td>7.500000</td>\n",
       "    </tr>\n",
       "    <tr>\n",
       "      <th>std</th>\n",
       "      <td>3.316625</td>\n",
       "      <td>2.030424</td>\n",
       "    </tr>\n",
       "    <tr>\n",
       "      <th>min</th>\n",
       "      <td>4.000000</td>\n",
       "      <td>5.390000</td>\n",
       "    </tr>\n",
       "    <tr>\n",
       "      <th>25%</th>\n",
       "      <td>6.500000</td>\n",
       "      <td>6.250000</td>\n",
       "    </tr>\n",
       "    <tr>\n",
       "      <th>50%</th>\n",
       "      <td>9.000000</td>\n",
       "      <td>7.110000</td>\n",
       "    </tr>\n",
       "    <tr>\n",
       "      <th>75%</th>\n",
       "      <td>11.500000</td>\n",
       "      <td>7.980000</td>\n",
       "    </tr>\n",
       "    <tr>\n",
       "      <th>max</th>\n",
       "      <td>14.000000</td>\n",
       "      <td>12.740000</td>\n",
       "    </tr>\n",
       "  </tbody>\n",
       "</table>\n",
       "</div>"
      ],
      "text/plain": [
       "            IIIx       IIIy\n",
       "count  11.000000  11.000000\n",
       "mean    9.000000   7.500000\n",
       "std     3.316625   2.030424\n",
       "min     4.000000   5.390000\n",
       "25%     6.500000   6.250000\n",
       "50%     9.000000   7.110000\n",
       "75%    11.500000   7.980000\n",
       "max    14.000000  12.740000"
      ]
     },
     "execution_count": 18,
     "metadata": {},
     "output_type": "execute_result"
    }
   ],
   "source": [
    "quartet[['IIIx', 'IIIy']].describe()"
   ]
  },
  {
   "cell_type": "code",
   "execution_count": 22,
   "metadata": {
    "collapsed": false
   },
   "outputs": [
    {
     "data": {
      "text/html": [
       "<div>\n",
       "<table border=\"1\" class=\"dataframe\">\n",
       "  <thead>\n",
       "    <tr style=\"text-align: right;\">\n",
       "      <th></th>\n",
       "      <th>IVx</th>\n",
       "      <th>IVy</th>\n",
       "    </tr>\n",
       "  </thead>\n",
       "  <tbody>\n",
       "    <tr>\n",
       "      <th>count</th>\n",
       "      <td>11.000000</td>\n",
       "      <td>11.000000</td>\n",
       "    </tr>\n",
       "    <tr>\n",
       "      <th>mean</th>\n",
       "      <td>9.000000</td>\n",
       "      <td>7.500909</td>\n",
       "    </tr>\n",
       "    <tr>\n",
       "      <th>std</th>\n",
       "      <td>3.316625</td>\n",
       "      <td>2.030579</td>\n",
       "    </tr>\n",
       "    <tr>\n",
       "      <th>min</th>\n",
       "      <td>8.000000</td>\n",
       "      <td>5.250000</td>\n",
       "    </tr>\n",
       "    <tr>\n",
       "      <th>25%</th>\n",
       "      <td>8.000000</td>\n",
       "      <td>6.170000</td>\n",
       "    </tr>\n",
       "    <tr>\n",
       "      <th>50%</th>\n",
       "      <td>8.000000</td>\n",
       "      <td>7.040000</td>\n",
       "    </tr>\n",
       "    <tr>\n",
       "      <th>75%</th>\n",
       "      <td>8.000000</td>\n",
       "      <td>8.190000</td>\n",
       "    </tr>\n",
       "    <tr>\n",
       "      <th>max</th>\n",
       "      <td>19.000000</td>\n",
       "      <td>12.500000</td>\n",
       "    </tr>\n",
       "  </tbody>\n",
       "</table>\n",
       "</div>"
      ],
      "text/plain": [
       "             IVx        IVy\n",
       "count  11.000000  11.000000\n",
       "mean    9.000000   7.500909\n",
       "std     3.316625   2.030579\n",
       "min     8.000000   5.250000\n",
       "25%     8.000000   6.170000\n",
       "50%     8.000000   7.040000\n",
       "75%     8.000000   8.190000\n",
       "max    19.000000  12.500000"
      ]
     },
     "execution_count": 22,
     "metadata": {},
     "output_type": "execute_result"
    }
   ],
   "source": [
    "quartet[['IVx', 'IVx']].describe()"
   ]
  },
  {
   "cell_type": "code",
   "execution_count": 37,
   "metadata": {
    "collapsed": false
   },
   "outputs": [
    {
     "data": {
      "text/plain": [
       "0.81642051634484003"
      ]
     },
     "execution_count": 37,
     "metadata": {},
     "output_type": "execute_result"
    }
   ],
   "source": [
    "pearsonr(quartet['Ix'], quartet['Iy'])[0]"
   ]
  },
  {
   "cell_type": "code",
   "execution_count": 38,
   "metadata": {
    "collapsed": false
   },
   "outputs": [
    {
     "data": {
      "text/plain": [
       "0.81623650600024267"
      ]
     },
     "execution_count": 38,
     "metadata": {},
     "output_type": "execute_result"
    }
   ],
   "source": [
    "pearsonr(quartet['IIx'], quartet['IIy'])[0]"
   ]
  },
  {
   "cell_type": "code",
   "execution_count": 39,
   "metadata": {
    "collapsed": false
   },
   "outputs": [
    {
     "data": {
      "text/plain": [
       "0.81628673948959807"
      ]
     },
     "execution_count": 39,
     "metadata": {},
     "output_type": "execute_result"
    }
   ],
   "source": [
    "pearsonr(quartet['IIIx'], quartet['IIIy'])[0]"
   ]
  },
  {
   "cell_type": "code",
   "execution_count": 40,
   "metadata": {
    "collapsed": false
   },
   "outputs": [
    {
     "data": {
      "text/plain": [
       "0.81652143688850298"
      ]
     },
     "execution_count": 40,
     "metadata": {},
     "output_type": "execute_result"
    }
   ],
   "source": [
    "pearsonr(quartet['IVx'], quartet['IVy'])[0]"
   ]
  },
  {
   "cell_type": "code",
   "execution_count": 33,
   "metadata": {
    "collapsed": false
   },
   "outputs": [
    {
     "name": "stdout",
     "output_type": "stream",
     "text": [
      "y = 3.00009090909 + 0.500090909091 * x\n"
     ]
    }
   ],
   "source": [
    "slope, intercept = np.polyfit(quartet['Ix'], quartet['Iy'], 1)\n",
    "print(\"y = %s + %s * x\" % (intercept, slope))"
   ]
  },
  {
   "cell_type": "code",
   "execution_count": 34,
   "metadata": {
    "collapsed": false
   },
   "outputs": [
    {
     "name": "stdout",
     "output_type": "stream",
     "text": [
      "y = 3.00090909091 + 0.5 * x\n"
     ]
    }
   ],
   "source": [
    "slope, intercept = np.polyfit(quartet['IIx'], quartet['IIy'], 1)\n",
    "print(\"y = %s + %s * x\" % (intercept, slope))"
   ]
  },
  {
   "cell_type": "code",
   "execution_count": 35,
   "metadata": {
    "collapsed": false
   },
   "outputs": [
    {
     "name": "stdout",
     "output_type": "stream",
     "text": [
      "y = 3.00245454545 + 0.499727272727 * x\n"
     ]
    }
   ],
   "source": [
    "slope, intercept = np.polyfit(quartet['IIIx'], quartet['IIIy'], 1)\n",
    "print(\"y = %s + %s * x\" % (intercept, slope))"
   ]
  },
  {
   "cell_type": "code",
   "execution_count": 36,
   "metadata": {
    "collapsed": false
   },
   "outputs": [
    {
     "name": "stdout",
     "output_type": "stream",
     "text": [
      "y = 3.00172727273 + 0.499909090909 * x\n"
     ]
    }
   ],
   "source": [
    "slope, intercept = np.polyfit(quartet['IVx'], quartet['IVy'], 1)\n",
    "print(\"y = %s + %s * x\" % (intercept, slope))"
   ]
  },
  {
   "cell_type": "code",
   "execution_count": 20,
   "metadata": {
    "collapsed": false
   },
   "outputs": [],
   "source": [
    "circles_source = ColumnDataSource(\n",
    "    data = dict(\n",
    "        xi   = quartet['Ix'],\n",
    "        yi   = quartet['Iy'],\n",
    "        xii  = quartet['IIx'],\n",
    "        yii  = quartet['IIy'],\n",
    "        xiii = quartet['IIIx'],\n",
    "        yiii = quartet['IIIy'],\n",
    "        xiv  = quartet['IVx'],\n",
    "        yiv  = quartet['IVy'],\n",
    "    )\n",
    "   )\n",
    "\n",
    "x = np.linspace(-0.5, 20.5, 10)\n",
    "y = 3 + 0.5 * x\n",
    "lines_source = ColumnDataSource(data=dict(x=x, y=y))\n",
    "\n",
    "xdr = Range1d(start=-0.5, end=20.5)\n",
    "ydr = Range1d(start=-0.5, end=20.5)\n",
    "\n",
    "def make_plot(title, xname, yname):\n",
    "    plot = figure(x_range=xdr, y_range=ydr, plot_width=400, plot_height=400,\n",
    "                border_fill_color='white', background_fill_color='white', tools=['save'])\n",
    "    plot.title.text = title\n",
    "\n",
    "    line = Line(x='x', y='y', line_color='red', line_width=2)\n",
    "    plot.add_glyph(lines_source, line)\n",
    "\n",
    "    circle = Circle(\n",
    "        x=xname, y=yname, size=12,\n",
    "        fill_color='orange', line_alpha=0, fill_alpha=0.5\n",
    "    )\n",
    "    plot.add_glyph(circles_source, circle)\n",
    "\n",
    "    return plot\n",
    "\n",
    "#where will this comment show up\n",
    "I   = make_plot('I',   'xi',   'yi')\n",
    "II  = make_plot('II',  'xii',  'yii')\n",
    "III = make_plot('III', 'xiii', 'yiii')\n",
    "IV  = make_plot('IV',  'xiv',  'yiv')\n",
    "\n",
    "grid = gridplot([[I, II], [III, IV]])"
   ]
  },
  {
   "cell_type": "code",
   "execution_count": 21,
   "metadata": {
    "collapsed": false
   },
   "outputs": [
    {
     "data": {
      "text/html": [
       "\n",
       "\n",
       "    <div class=\"bk-root\">\n",
       "        <div class=\"plotdiv\" id=\"695b88f4-4934-4575-abfd-34d4e3d57162\"></div>\n",
       "    </div>\n",
       "<script type=\"text/javascript\">\n",
       "  \n",
       "  (function(global) {\n",
       "    function now() {\n",
       "      return new Date();\n",
       "    }\n",
       "  \n",
       "    if (typeof (window._bokeh_onload_callbacks) === \"undefined\") {\n",
       "      window._bokeh_onload_callbacks = [];\n",
       "    }\n",
       "  \n",
       "    function run_callbacks() {\n",
       "      window._bokeh_onload_callbacks.forEach(function(callback) { callback() });\n",
       "      delete window._bokeh_onload_callbacks\n",
       "      console.info(\"Bokeh: all callbacks have finished\");\n",
       "    }\n",
       "  \n",
       "    function load_libs(js_urls, callback) {\n",
       "      window._bokeh_onload_callbacks.push(callback);\n",
       "      if (window._bokeh_is_loading > 0) {\n",
       "        console.log(\"Bokeh: BokehJS is being loaded, scheduling callback at\", now());\n",
       "        return null;\n",
       "      }\n",
       "      if (js_urls == null || js_urls.length === 0) {\n",
       "        run_callbacks();\n",
       "        return null;\n",
       "      }\n",
       "      console.log(\"Bokeh: BokehJS not loaded, scheduling load and callback at\", now());\n",
       "      window._bokeh_is_loading = js_urls.length;\n",
       "      for (var i = 0; i < js_urls.length; i++) {\n",
       "        var url = js_urls[i];\n",
       "        var s = document.createElement('script');\n",
       "        s.src = url;\n",
       "        s.async = false;\n",
       "        s.onreadystatechange = s.onload = function() {\n",
       "          window._bokeh_is_loading--;\n",
       "          if (window._bokeh_is_loading === 0) {\n",
       "            console.log(\"Bokeh: all BokehJS libraries loaded\");\n",
       "            run_callbacks()\n",
       "          }\n",
       "        };\n",
       "        s.onerror = function() {\n",
       "          console.warn(\"failed to load library \" + url);\n",
       "        };\n",
       "        console.log(\"Bokeh: injecting script tag for BokehJS library: \", url);\n",
       "        document.getElementsByTagName(\"head\")[0].appendChild(s);\n",
       "      }\n",
       "    };var element = document.getElementById(\"695b88f4-4934-4575-abfd-34d4e3d57162\");\n",
       "    if (element == null) {\n",
       "      console.log(\"Bokeh: ERROR: autoload.js configured with elementid '695b88f4-4934-4575-abfd-34d4e3d57162' but no matching script tag was found. \")\n",
       "      return false;\n",
       "    }\n",
       "  \n",
       "    var js_urls = [];\n",
       "  \n",
       "    var inline_js = [\n",
       "      function(Bokeh) {\n",
       "        Bokeh.$(function() {\n",
       "            var docs_json = {\"7c4ba499-0c4a-41dc-b69a-2fad5291ef1a\":{\"roots\":{\"references\":[{\"attributes\":{},\"id\":\"1b65a2cc-20b9-4b3e-ab4e-72b5e078e94d\",\"type\":\"BasicTicker\"},{\"attributes\":{\"children\":[{\"id\":\"ec642b0c-5386-4f18-b15b-f2c26053f1cb\",\"type\":\"ToolbarBox\"},{\"id\":\"e664aa2b-5770-456d-81d2-b89140722c27\",\"type\":\"Column\"}]},\"id\":\"a609764d-7b3f-41c7-991a-4e95e66c738f\",\"type\":\"Column\"},{\"attributes\":{},\"id\":\"1e4abf35-9ed7-4bcf-86e4-69f9d987ce13\",\"type\":\"BasicTickFormatter\"},{\"attributes\":{\"plot\":{\"id\":\"c33b9ec3-7ea8-4926-8ce4-76aee8f23b7d\",\"subtype\":\"Figure\",\"type\":\"Plot\"},\"ticker\":{\"id\":\"12c20024-f362-4b71-81c7-fa15dfab4bf4\",\"type\":\"BasicTicker\"}},\"id\":\"2b728dfc-c34e-42b3-ae5d-ad6529dcfef3\",\"type\":\"Grid\"},{\"attributes\":{\"children\":[{\"id\":\"007d477d-0aa0-4d59-b073-44b611074296\",\"type\":\"Row\"},{\"id\":\"b420c5ad-53f3-4905-ba35-834b3a48e6b3\",\"type\":\"Row\"}]},\"id\":\"e664aa2b-5770-456d-81d2-b89140722c27\",\"type\":\"Column\"},{\"attributes\":{\"dimension\":1,\"plot\":{\"id\":\"99041fb4-4f9f-4753-bad0-47d8b6e89864\",\"subtype\":\"Figure\",\"type\":\"Plot\"},\"ticker\":{\"id\":\"1b65a2cc-20b9-4b3e-ab4e-72b5e078e94d\",\"type\":\"BasicTicker\"}},\"id\":\"d6453d9d-6dc3-4641-ac19-0b6dfa3c487a\",\"type\":\"Grid\"},{\"attributes\":{\"formatter\":{\"id\":\"1e4abf35-9ed7-4bcf-86e4-69f9d987ce13\",\"type\":\"BasicTickFormatter\"},\"plot\":{\"id\":\"12153e0e-7a69-4b2d-969b-93e1ebe65aeb\",\"subtype\":\"Figure\",\"type\":\"Plot\"},\"ticker\":{\"id\":\"4ee08d2a-ec2e-4c1a-8df4-945dc2f38036\",\"type\":\"BasicTicker\"}},\"id\":\"b62c7094-220a-45e5-8f35-fca7f8f71f1c\",\"type\":\"LinearAxis\"},{\"attributes\":{\"callback\":null,\"end\":20.5,\"start\":-0.5},\"id\":\"35f3b778-5880-40e9-8fc7-4ffbd388c027\",\"type\":\"Range1d\"},{\"attributes\":{},\"id\":\"a728e77c-4dbe-453b-ae6d-48f4394b950d\",\"type\":\"BasicTickFormatter\"},{\"attributes\":{},\"id\":\"5f5b0713-dd5a-45cc-b83a-9b5da4583ac1\",\"type\":\"BasicTicker\"},{\"attributes\":{\"formatter\":{\"id\":\"cfac1626-03b9-4863-96fe-50e915145673\",\"type\":\"BasicTickFormatter\"},\"plot\":{\"id\":\"c33b9ec3-7ea8-4926-8ce4-76aee8f23b7d\",\"subtype\":\"Figure\",\"type\":\"Plot\"},\"ticker\":{\"id\":\"86a5530b-6d9a-462d-8b00-05ab4af6ebb4\",\"type\":\"BasicTicker\"}},\"id\":\"12edb516-5c06-4951-82da-a4431886273b\",\"type\":\"LinearAxis\"},{\"attributes\":{\"background_fill_color\":{\"value\":\"white\"},\"below\":[{\"id\":\"a2ed8c4e-a96c-4e04-bc6e-e95166b52a68\",\"type\":\"LinearAxis\"}],\"border_fill_color\":{\"value\":\"white\"},\"left\":[{\"id\":\"12edb516-5c06-4951-82da-a4431886273b\",\"type\":\"LinearAxis\"}],\"plot_height\":400,\"plot_width\":400,\"renderers\":[{\"id\":\"a2ed8c4e-a96c-4e04-bc6e-e95166b52a68\",\"type\":\"LinearAxis\"},{\"id\":\"2b728dfc-c34e-42b3-ae5d-ad6529dcfef3\",\"type\":\"Grid\"},{\"id\":\"12edb516-5c06-4951-82da-a4431886273b\",\"type\":\"LinearAxis\"},{\"id\":\"eafcb559-526f-455e-bac9-4e3dd637b831\",\"type\":\"Grid\"},{\"id\":\"8208feb9-8e58-4e28-b140-d5dc150416f8\",\"type\":\"GlyphRenderer\"},{\"id\":\"d9029f93-c174-4cd8-b227-238c8a0095b9\",\"type\":\"GlyphRenderer\"}],\"title\":{\"id\":\"fa35745a-0d27-43e6-819b-220eb6e6b813\",\"type\":\"Title\"},\"tool_events\":{\"id\":\"04f197ba-2977-4a6f-b83b-74c4d8769f29\",\"type\":\"ToolEvents\"},\"toolbar\":{\"id\":\"b5972fd0-a1d2-4070-9453-7379843d5a21\",\"type\":\"Toolbar\"},\"toolbar_location\":null,\"x_range\":{\"id\":\"6fca3abd-2dc7-4912-9480-f32812fd74e7\",\"type\":\"Range1d\"},\"y_range\":{\"id\":\"35f3b778-5880-40e9-8fc7-4ffbd388c027\",\"type\":\"Range1d\"}},\"id\":\"c33b9ec3-7ea8-4926-8ce4-76aee8f23b7d\",\"subtype\":\"Figure\",\"type\":\"Plot\"},{\"attributes\":{\"callback\":null,\"column_names\":[\"yiii\",\"yi\",\"xi\",\"xii\",\"yii\",\"yiv\",\"xiv\",\"xiii\"],\"data\":{\"xi\":[10.0,8.0,13.0,9.0,11.0,14.0,6.0,4.0,12.0,7.0,5.0],\"xii\":[10.0,8.0,13.0,9.0,11.0,14.0,6.0,4.0,12.0,7.0,5.0],\"xiii\":[10.0,8.0,13.0,9.0,11.0,14.0,6.0,4.0,12.0,7.0,5.0],\"xiv\":[8.0,8.0,8.0,8.0,8.0,8.0,8.0,19.0,8.0,8.0,8.0],\"yi\":[8.04,6.95,7.58,8.81,8.33,9.96,7.24,4.26,10.84,4.82,5.68],\"yii\":[9.14,8.14,8.74,8.77,9.26,8.1,6.13,3.1,9.13,7.26,4.74],\"yiii\":[7.46,6.77,12.74,7.11,7.81,8.84,6.08,5.39,8.15,6.42,5.73],\"yiv\":[6.58,5.76,7.71,8.84,8.47,7.04,5.25,12.5,5.56,7.91,6.89]}},\"id\":\"d7c12c46-aa95-467a-8c5e-156ddaa534a2\",\"type\":\"ColumnDataSource\"},{\"attributes\":{\"data_source\":{\"id\":\"9548c548-8c45-4527-b062-757059a47daf\",\"type\":\"ColumnDataSource\"},\"glyph\":{\"id\":\"0b895c2e-8e2c-4592-9f44-6fdf32b5657a\",\"type\":\"Line\"},\"hover_glyph\":null,\"nonselection_glyph\":null,\"selection_glyph\":null},\"id\":\"de46af01-cefd-4bc8-901c-cb308f082745\",\"type\":\"GlyphRenderer\"},{\"attributes\":{\"formatter\":{\"id\":\"fa5d1d66-4682-4861-8b12-93f523523f08\",\"type\":\"BasicTickFormatter\"},\"plot\":{\"id\":\"99041fb4-4f9f-4753-bad0-47d8b6e89864\",\"subtype\":\"Figure\",\"type\":\"Plot\"},\"ticker\":{\"id\":\"1b65a2cc-20b9-4b3e-ab4e-72b5e078e94d\",\"type\":\"BasicTicker\"}},\"id\":\"946d92e4-2361-4abf-9229-4e8c2146d7d2\",\"type\":\"LinearAxis\"},{\"attributes\":{\"fill_alpha\":{\"value\":0.5},\"fill_color\":{\"value\":\"orange\"},\"line_alpha\":{\"value\":0},\"size\":{\"units\":\"screen\",\"value\":12},\"x\":{\"field\":\"xiii\"},\"y\":{\"field\":\"yiii\"}},\"id\":\"33451ad5-7681-4ee2-84d2-b1fe0651d8f7\",\"type\":\"Circle\"},{\"attributes\":{\"data_source\":{\"id\":\"d7c12c46-aa95-467a-8c5e-156ddaa534a2\",\"type\":\"ColumnDataSource\"},\"glyph\":{\"id\":\"33451ad5-7681-4ee2-84d2-b1fe0651d8f7\",\"type\":\"Circle\"},\"hover_glyph\":null,\"nonselection_glyph\":null,\"selection_glyph\":null},\"id\":\"50031dfb-41cb-4058-be97-6380b1ae3b61\",\"type\":\"GlyphRenderer\"},{\"attributes\":{\"dimension\":1,\"plot\":{\"id\":\"12153e0e-7a69-4b2d-969b-93e1ebe65aeb\",\"subtype\":\"Figure\",\"type\":\"Plot\"},\"ticker\":{\"id\":\"4ee08d2a-ec2e-4c1a-8df4-945dc2f38036\",\"type\":\"BasicTicker\"}},\"id\":\"26f7c1d8-644a-4580-9ba7-5294d3bf7642\",\"type\":\"Grid\"},{\"attributes\":{\"dimension\":1,\"plot\":{\"id\":\"c33b9ec3-7ea8-4926-8ce4-76aee8f23b7d\",\"subtype\":\"Figure\",\"type\":\"Plot\"},\"ticker\":{\"id\":\"86a5530b-6d9a-462d-8b00-05ab4af6ebb4\",\"type\":\"BasicTicker\"}},\"id\":\"eafcb559-526f-455e-bac9-4e3dd637b831\",\"type\":\"Grid\"},{\"attributes\":{\"plot\":{\"id\":\"99041fb4-4f9f-4753-bad0-47d8b6e89864\",\"subtype\":\"Figure\",\"type\":\"Plot\"}},\"id\":\"321c76a8-a624-4144-abac-29835debffd5\",\"type\":\"SaveTool\"},{\"attributes\":{},\"id\":\"04f197ba-2977-4a6f-b83b-74c4d8769f29\",\"type\":\"ToolEvents\"},{\"attributes\":{\"plot\":{\"id\":\"12153e0e-7a69-4b2d-969b-93e1ebe65aeb\",\"subtype\":\"Figure\",\"type\":\"Plot\"}},\"id\":\"57320376-8d51-4be4-be95-b154063163f9\",\"type\":\"SaveTool\"},{\"attributes\":{\"children\":[{\"id\":\"99041fb4-4f9f-4753-bad0-47d8b6e89864\",\"subtype\":\"Figure\",\"type\":\"Plot\"},{\"id\":\"12153e0e-7a69-4b2d-969b-93e1ebe65aeb\",\"subtype\":\"Figure\",\"type\":\"Plot\"}]},\"id\":\"007d477d-0aa0-4d59-b073-44b611074296\",\"type\":\"Row\"},{\"attributes\":{\"plot\":null,\"text\":\"I\"},\"id\":\"bfbb8a13-e539-4de4-95b1-cfc4b922c4c4\",\"type\":\"Title\"},{\"attributes\":{\"formatter\":{\"id\":\"d7aa95e1-14e5-481b-87ec-8e736678b6de\",\"type\":\"BasicTickFormatter\"},\"plot\":{\"id\":\"99041fb4-4f9f-4753-bad0-47d8b6e89864\",\"subtype\":\"Figure\",\"type\":\"Plot\"},\"ticker\":{\"id\":\"5f5b0713-dd5a-45cc-b83a-9b5da4583ac1\",\"type\":\"BasicTicker\"}},\"id\":\"de27768b-11f0-4e53-81b0-b9eea5c8dbae\",\"type\":\"LinearAxis\"},{\"attributes\":{\"plot\":{\"id\":\"81a7bd93-da94-428d-8335-83ab71992b2d\",\"subtype\":\"Figure\",\"type\":\"Plot\"}},\"id\":\"ba723084-7b18-4813-a1c7-1e6c7868a6f7\",\"type\":\"SaveTool\"},{\"attributes\":{},\"id\":\"12c20024-f362-4b71-81c7-fa15dfab4bf4\",\"type\":\"BasicTicker\"},{\"attributes\":{},\"id\":\"5f10d294-0359-4f2d-a9e0-cbc9f98a7811\",\"type\":\"BasicTickFormatter\"},{\"attributes\":{},\"id\":\"7a5dc837-04d8-4df5-9a72-c211c7fe0ded\",\"type\":\"ToolEvents\"},{\"attributes\":{\"data_source\":{\"id\":\"d7c12c46-aa95-467a-8c5e-156ddaa534a2\",\"type\":\"ColumnDataSource\"},\"glyph\":{\"id\":\"45dd4fba-589b-45c7-a8cf-cc3ff2ab22d5\",\"type\":\"Circle\"},\"hover_glyph\":null,\"nonselection_glyph\":null,\"selection_glyph\":null},\"id\":\"e2876e1a-ee9f-4cc6-a036-1ab7eb821d1f\",\"type\":\"GlyphRenderer\"},{\"attributes\":{},\"id\":\"4c51d443-6c27-4d31-b0d5-3557bb4518df\",\"type\":\"BasicTickFormatter\"},{\"attributes\":{\"line_color\":{\"value\":\"red\"},\"line_width\":{\"value\":2},\"x\":{\"field\":\"x\"},\"y\":{\"field\":\"y\"}},\"id\":\"0b895c2e-8e2c-4592-9f44-6fdf32b5657a\",\"type\":\"Line\"},{\"attributes\":{\"background_fill_color\":{\"value\":\"white\"},\"below\":[{\"id\":\"e49ef225-ed5b-48d5-bf25-0117597d522d\",\"type\":\"LinearAxis\"}],\"border_fill_color\":{\"value\":\"white\"},\"left\":[{\"id\":\"b62c7094-220a-45e5-8f35-fca7f8f71f1c\",\"type\":\"LinearAxis\"}],\"plot_height\":400,\"plot_width\":400,\"renderers\":[{\"id\":\"e49ef225-ed5b-48d5-bf25-0117597d522d\",\"type\":\"LinearAxis\"},{\"id\":\"9ff400aa-54e8-4155-95bd-76cf1e048b73\",\"type\":\"Grid\"},{\"id\":\"b62c7094-220a-45e5-8f35-fca7f8f71f1c\",\"type\":\"LinearAxis\"},{\"id\":\"26f7c1d8-644a-4580-9ba7-5294d3bf7642\",\"type\":\"Grid\"},{\"id\":\"70251b7c-4556-466b-981e-5c20976cb108\",\"type\":\"GlyphRenderer\"},{\"id\":\"e2876e1a-ee9f-4cc6-a036-1ab7eb821d1f\",\"type\":\"GlyphRenderer\"}],\"title\":{\"id\":\"0369e5ac-23b8-4202-b686-ca1cef44f598\",\"type\":\"Title\"},\"tool_events\":{\"id\":\"7a5dc837-04d8-4df5-9a72-c211c7fe0ded\",\"type\":\"ToolEvents\"},\"toolbar\":{\"id\":\"30643787-d853-49af-a14c-1665842d92ed\",\"type\":\"Toolbar\"},\"toolbar_location\":null,\"x_range\":{\"id\":\"6fca3abd-2dc7-4912-9480-f32812fd74e7\",\"type\":\"Range1d\"},\"y_range\":{\"id\":\"35f3b778-5880-40e9-8fc7-4ffbd388c027\",\"type\":\"Range1d\"}},\"id\":\"12153e0e-7a69-4b2d-969b-93e1ebe65aeb\",\"subtype\":\"Figure\",\"type\":\"Plot\"},{\"attributes\":{\"formatter\":{\"id\":\"4c51d443-6c27-4d31-b0d5-3557bb4518df\",\"type\":\"BasicTickFormatter\"},\"plot\":{\"id\":\"12153e0e-7a69-4b2d-969b-93e1ebe65aeb\",\"subtype\":\"Figure\",\"type\":\"Plot\"},\"ticker\":{\"id\":\"76df114a-2567-44bc-8fd8-813c7ac1f832\",\"type\":\"BasicTicker\"}},\"id\":\"e49ef225-ed5b-48d5-bf25-0117597d522d\",\"type\":\"LinearAxis\"},{\"attributes\":{\"line_color\":{\"value\":\"red\"},\"line_width\":{\"value\":2},\"x\":{\"field\":\"x\"},\"y\":{\"field\":\"y\"}},\"id\":\"350133be-1272-4bbd-9c98-79c3794d2bc4\",\"type\":\"Line\"},{\"attributes\":{\"data_source\":{\"id\":\"9548c548-8c45-4527-b062-757059a47daf\",\"type\":\"ColumnDataSource\"},\"glyph\":{\"id\":\"0aa778bf-2947-46da-bf24-053eb2fdec1d\",\"type\":\"Line\"},\"hover_glyph\":null,\"nonselection_glyph\":null,\"selection_glyph\":null},\"id\":\"8208feb9-8e58-4e28-b140-d5dc150416f8\",\"type\":\"GlyphRenderer\"},{\"attributes\":{\"plot\":{\"id\":\"c33b9ec3-7ea8-4926-8ce4-76aee8f23b7d\",\"subtype\":\"Figure\",\"type\":\"Plot\"}},\"id\":\"5577ea15-5c8e-4fb1-8f29-7e5ba07d263e\",\"type\":\"SaveTool\"},{\"attributes\":{},\"id\":\"4c1aefc2-69c2-4e4f-8c63-45f601fd6bcd\",\"type\":\"BasicTicker\"},{\"attributes\":{},\"id\":\"cfac1626-03b9-4863-96fe-50e915145673\",\"type\":\"BasicTickFormatter\"},{\"attributes\":{\"formatter\":{\"id\":\"5f10d294-0359-4f2d-a9e0-cbc9f98a7811\",\"type\":\"BasicTickFormatter\"},\"plot\":{\"id\":\"c33b9ec3-7ea8-4926-8ce4-76aee8f23b7d\",\"subtype\":\"Figure\",\"type\":\"Plot\"},\"ticker\":{\"id\":\"12c20024-f362-4b71-81c7-fa15dfab4bf4\",\"type\":\"BasicTicker\"}},\"id\":\"a2ed8c4e-a96c-4e04-bc6e-e95166b52a68\",\"type\":\"LinearAxis\"},{\"attributes\":{\"fill_alpha\":{\"value\":0.5},\"fill_color\":{\"value\":\"orange\"},\"line_alpha\":{\"value\":0},\"size\":{\"units\":\"screen\",\"value\":12},\"x\":{\"field\":\"xi\"},\"y\":{\"field\":\"yi\"}},\"id\":\"5e83776c-7341-4b1b-8dd6-57fb0aaef796\",\"type\":\"Circle\"},{\"attributes\":{\"active_drag\":\"auto\",\"active_scroll\":\"auto\",\"active_tap\":\"auto\",\"tools\":[{\"id\":\"ba723084-7b18-4813-a1c7-1e6c7868a6f7\",\"type\":\"SaveTool\"}]},\"id\":\"c02e1cd0-5934-4c3d-8e1a-88abc2b8895e\",\"type\":\"Toolbar\"},{\"attributes\":{},\"id\":\"d7aa95e1-14e5-481b-87ec-8e736678b6de\",\"type\":\"BasicTickFormatter\"},{\"attributes\":{},\"id\":\"4ee08d2a-ec2e-4c1a-8df4-945dc2f38036\",\"type\":\"BasicTicker\"},{\"attributes\":{\"dimension\":1,\"plot\":{\"id\":\"81a7bd93-da94-428d-8335-83ab71992b2d\",\"subtype\":\"Figure\",\"type\":\"Plot\"},\"ticker\":{\"id\":\"4c1aefc2-69c2-4e4f-8c63-45f601fd6bcd\",\"type\":\"BasicTicker\"}},\"id\":\"7d95ed99-4a8d-4c3d-ba07-db65ee9b4ccf\",\"type\":\"Grid\"},{\"attributes\":{\"plot\":{\"id\":\"12153e0e-7a69-4b2d-969b-93e1ebe65aeb\",\"subtype\":\"Figure\",\"type\":\"Plot\"},\"ticker\":{\"id\":\"76df114a-2567-44bc-8fd8-813c7ac1f832\",\"type\":\"BasicTicker\"}},\"id\":\"9ff400aa-54e8-4155-95bd-76cf1e048b73\",\"type\":\"Grid\"},{\"attributes\":{\"fill_alpha\":{\"value\":0.5},\"fill_color\":{\"value\":\"orange\"},\"line_alpha\":{\"value\":0},\"size\":{\"units\":\"screen\",\"value\":12},\"x\":{\"field\":\"xii\"},\"y\":{\"field\":\"yii\"}},\"id\":\"45dd4fba-589b-45c7-a8cf-cc3ff2ab22d5\",\"type\":\"Circle\"},{\"attributes\":{\"data_source\":{\"id\":\"d7c12c46-aa95-467a-8c5e-156ddaa534a2\",\"type\":\"ColumnDataSource\"},\"glyph\":{\"id\":\"ed717e72-c6ec-4804-87ab-5e8e8a3420f3\",\"type\":\"Circle\"},\"hover_glyph\":null,\"nonselection_glyph\":null,\"selection_glyph\":null},\"id\":\"d9029f93-c174-4cd8-b227-238c8a0095b9\",\"type\":\"GlyphRenderer\"},{\"attributes\":{\"plot\":{\"id\":\"99041fb4-4f9f-4753-bad0-47d8b6e89864\",\"subtype\":\"Figure\",\"type\":\"Plot\"},\"ticker\":{\"id\":\"5f5b0713-dd5a-45cc-b83a-9b5da4583ac1\",\"type\":\"BasicTicker\"}},\"id\":\"41dfdba7-3728-4c3e-aa88-f525b5ed8394\",\"type\":\"Grid\"},{\"attributes\":{\"formatter\":{\"id\":\"a728e77c-4dbe-453b-ae6d-48f4394b950d\",\"type\":\"BasicTickFormatter\"},\"plot\":{\"id\":\"81a7bd93-da94-428d-8335-83ab71992b2d\",\"subtype\":\"Figure\",\"type\":\"Plot\"},\"ticker\":{\"id\":\"4c1aefc2-69c2-4e4f-8c63-45f601fd6bcd\",\"type\":\"BasicTicker\"}},\"id\":\"e3358f11-1005-47cb-842a-5ce95f7bfcb5\",\"type\":\"LinearAxis\"},{\"attributes\":{\"plot\":null,\"text\":\"II\"},\"id\":\"0369e5ac-23b8-4202-b686-ca1cef44f598\",\"type\":\"Title\"},{\"attributes\":{\"data_source\":{\"id\":\"9548c548-8c45-4527-b062-757059a47daf\",\"type\":\"ColumnDataSource\"},\"glyph\":{\"id\":\"350133be-1272-4bbd-9c98-79c3794d2bc4\",\"type\":\"Line\"},\"hover_glyph\":null,\"nonselection_glyph\":null,\"selection_glyph\":null},\"id\":\"70251b7c-4556-466b-981e-5c20976cb108\",\"type\":\"GlyphRenderer\"},{\"attributes\":{\"plot\":null,\"text\":\"III\"},\"id\":\"24a532cc-f852-4f55-bbaf-d434dc683814\",\"type\":\"Title\"},{\"attributes\":{\"active_drag\":\"auto\",\"active_scroll\":\"auto\",\"active_tap\":\"auto\",\"tools\":[{\"id\":\"5577ea15-5c8e-4fb1-8f29-7e5ba07d263e\",\"type\":\"SaveTool\"}]},\"id\":\"b5972fd0-a1d2-4070-9453-7379843d5a21\",\"type\":\"Toolbar\"},{\"attributes\":{\"callback\":null,\"end\":20.5,\"start\":-0.5},\"id\":\"6fca3abd-2dc7-4912-9480-f32812fd74e7\",\"type\":\"Range1d\"},{\"attributes\":{},\"id\":\"a888b183-c3e3-4c8f-a616-9b4d71e21992\",\"type\":\"ToolEvents\"},{\"attributes\":{\"background_fill_color\":{\"value\":\"white\"},\"below\":[{\"id\":\"4459ab25-300c-41dc-a96a-37d48e1505ee\",\"type\":\"LinearAxis\"}],\"border_fill_color\":{\"value\":\"white\"},\"left\":[{\"id\":\"e3358f11-1005-47cb-842a-5ce95f7bfcb5\",\"type\":\"LinearAxis\"}],\"plot_height\":400,\"plot_width\":400,\"renderers\":[{\"id\":\"4459ab25-300c-41dc-a96a-37d48e1505ee\",\"type\":\"LinearAxis\"},{\"id\":\"b0d934ef-2197-493b-b6ec-f88f4a54f6ab\",\"type\":\"Grid\"},{\"id\":\"e3358f11-1005-47cb-842a-5ce95f7bfcb5\",\"type\":\"LinearAxis\"},{\"id\":\"7d95ed99-4a8d-4c3d-ba07-db65ee9b4ccf\",\"type\":\"Grid\"},{\"id\":\"de46af01-cefd-4bc8-901c-cb308f082745\",\"type\":\"GlyphRenderer\"},{\"id\":\"50031dfb-41cb-4058-be97-6380b1ae3b61\",\"type\":\"GlyphRenderer\"}],\"title\":{\"id\":\"24a532cc-f852-4f55-bbaf-d434dc683814\",\"type\":\"Title\"},\"tool_events\":{\"id\":\"f8f92314-90d8-4d07-9dc7-d13354b67f9c\",\"type\":\"ToolEvents\"},\"toolbar\":{\"id\":\"c02e1cd0-5934-4c3d-8e1a-88abc2b8895e\",\"type\":\"Toolbar\"},\"toolbar_location\":null,\"x_range\":{\"id\":\"6fca3abd-2dc7-4912-9480-f32812fd74e7\",\"type\":\"Range1d\"},\"y_range\":{\"id\":\"35f3b778-5880-40e9-8fc7-4ffbd388c027\",\"type\":\"Range1d\"}},\"id\":\"81a7bd93-da94-428d-8335-83ab71992b2d\",\"subtype\":\"Figure\",\"type\":\"Plot\"},{\"attributes\":{},\"id\":\"f8f92314-90d8-4d07-9dc7-d13354b67f9c\",\"type\":\"ToolEvents\"},{\"attributes\":{},\"id\":\"ae856b8b-edfc-4131-bf8a-44c32fc0cb9b\",\"type\":\"BasicTicker\"},{\"attributes\":{\"plot\":{\"id\":\"81a7bd93-da94-428d-8335-83ab71992b2d\",\"subtype\":\"Figure\",\"type\":\"Plot\"},\"ticker\":{\"id\":\"ae856b8b-edfc-4131-bf8a-44c32fc0cb9b\",\"type\":\"BasicTicker\"}},\"id\":\"b0d934ef-2197-493b-b6ec-f88f4a54f6ab\",\"type\":\"Grid\"},{\"attributes\":{\"line_color\":{\"value\":\"red\"},\"line_width\":{\"value\":2},\"x\":{\"field\":\"x\"},\"y\":{\"field\":\"y\"}},\"id\":\"0aa778bf-2947-46da-bf24-053eb2fdec1d\",\"type\":\"Line\"},{\"attributes\":{\"data_source\":{\"id\":\"9548c548-8c45-4527-b062-757059a47daf\",\"type\":\"ColumnDataSource\"},\"glyph\":{\"id\":\"1e9b3da5-7bdf-4399-9461-a8ed67db3ef8\",\"type\":\"Line\"},\"hover_glyph\":null,\"nonselection_glyph\":null,\"selection_glyph\":null},\"id\":\"05d78f4f-aa06-49c6-aa15-a76ac46ca647\",\"type\":\"GlyphRenderer\"},{\"attributes\":{\"callback\":null,\"column_names\":[\"y\",\"x\"],\"data\":{\"x\":[-0.5,1.8333333333333335,4.166666666666667,6.5,8.833333333333334,11.166666666666668,13.5,15.833333333333336,18.166666666666668,20.5],\"y\":[2.75,3.916666666666667,5.083333333333334,6.25,7.416666666666667,8.583333333333334,9.75,10.916666666666668,12.083333333333334,13.25]}},\"id\":\"9548c548-8c45-4527-b062-757059a47daf\",\"type\":\"ColumnDataSource\"},{\"attributes\":{\"background_fill_color\":{\"value\":\"white\"},\"below\":[{\"id\":\"de27768b-11f0-4e53-81b0-b9eea5c8dbae\",\"type\":\"LinearAxis\"}],\"border_fill_color\":{\"value\":\"white\"},\"left\":[{\"id\":\"946d92e4-2361-4abf-9229-4e8c2146d7d2\",\"type\":\"LinearAxis\"}],\"plot_height\":400,\"plot_width\":400,\"renderers\":[{\"id\":\"de27768b-11f0-4e53-81b0-b9eea5c8dbae\",\"type\":\"LinearAxis\"},{\"id\":\"41dfdba7-3728-4c3e-aa88-f525b5ed8394\",\"type\":\"Grid\"},{\"id\":\"946d92e4-2361-4abf-9229-4e8c2146d7d2\",\"type\":\"LinearAxis\"},{\"id\":\"d6453d9d-6dc3-4641-ac19-0b6dfa3c487a\",\"type\":\"Grid\"},{\"id\":\"05d78f4f-aa06-49c6-aa15-a76ac46ca647\",\"type\":\"GlyphRenderer\"},{\"id\":\"ce4b1525-db60-4757-91db-54239af95367\",\"type\":\"GlyphRenderer\"}],\"title\":{\"id\":\"bfbb8a13-e539-4de4-95b1-cfc4b922c4c4\",\"type\":\"Title\"},\"tool_events\":{\"id\":\"a888b183-c3e3-4c8f-a616-9b4d71e21992\",\"type\":\"ToolEvents\"},\"toolbar\":{\"id\":\"40c8969b-c429-4c67-8bc3-fc16c6e545c0\",\"type\":\"Toolbar\"},\"toolbar_location\":null,\"x_range\":{\"id\":\"6fca3abd-2dc7-4912-9480-f32812fd74e7\",\"type\":\"Range1d\"},\"y_range\":{\"id\":\"35f3b778-5880-40e9-8fc7-4ffbd388c027\",\"type\":\"Range1d\"}},\"id\":\"99041fb4-4f9f-4753-bad0-47d8b6e89864\",\"subtype\":\"Figure\",\"type\":\"Plot\"},{\"attributes\":{\"fill_alpha\":{\"value\":0.5},\"fill_color\":{\"value\":\"orange\"},\"line_alpha\":{\"value\":0},\"size\":{\"units\":\"screen\",\"value\":12},\"x\":{\"field\":\"xiv\"},\"y\":{\"field\":\"yiv\"}},\"id\":\"ed717e72-c6ec-4804-87ab-5e8e8a3420f3\",\"type\":\"Circle\"},{\"attributes\":{},\"id\":\"86a5530b-6d9a-462d-8b00-05ab4af6ebb4\",\"type\":\"BasicTicker\"},{\"attributes\":{\"children\":[{\"id\":\"81a7bd93-da94-428d-8335-83ab71992b2d\",\"subtype\":\"Figure\",\"type\":\"Plot\"},{\"id\":\"c33b9ec3-7ea8-4926-8ce4-76aee8f23b7d\",\"subtype\":\"Figure\",\"type\":\"Plot\"}]},\"id\":\"b420c5ad-53f3-4905-ba35-834b3a48e6b3\",\"type\":\"Row\"},{\"attributes\":{},\"id\":\"76df114a-2567-44bc-8fd8-813c7ac1f832\",\"type\":\"BasicTicker\"},{\"attributes\":{\"data_source\":{\"id\":\"d7c12c46-aa95-467a-8c5e-156ddaa534a2\",\"type\":\"ColumnDataSource\"},\"glyph\":{\"id\":\"5e83776c-7341-4b1b-8dd6-57fb0aaef796\",\"type\":\"Circle\"},\"hover_glyph\":null,\"nonselection_glyph\":null,\"selection_glyph\":null},\"id\":\"ce4b1525-db60-4757-91db-54239af95367\",\"type\":\"GlyphRenderer\"},{\"attributes\":{},\"id\":\"86959c84-e9dd-4430-880e-cdc299894f98\",\"type\":\"BasicTickFormatter\"},{\"attributes\":{\"sizing_mode\":\"scale_width\",\"toolbar_location\":\"above\",\"tools\":[{\"id\":\"321c76a8-a624-4144-abac-29835debffd5\",\"type\":\"SaveTool\"},{\"id\":\"57320376-8d51-4be4-be95-b154063163f9\",\"type\":\"SaveTool\"},{\"id\":\"ba723084-7b18-4813-a1c7-1e6c7868a6f7\",\"type\":\"SaveTool\"},{\"id\":\"5577ea15-5c8e-4fb1-8f29-7e5ba07d263e\",\"type\":\"SaveTool\"}]},\"id\":\"ec642b0c-5386-4f18-b15b-f2c26053f1cb\",\"type\":\"ToolbarBox\"},{\"attributes\":{\"active_drag\":\"auto\",\"active_scroll\":\"auto\",\"active_tap\":\"auto\",\"tools\":[{\"id\":\"57320376-8d51-4be4-be95-b154063163f9\",\"type\":\"SaveTool\"}]},\"id\":\"30643787-d853-49af-a14c-1665842d92ed\",\"type\":\"Toolbar\"},{\"attributes\":{\"active_drag\":\"auto\",\"active_scroll\":\"auto\",\"active_tap\":\"auto\",\"tools\":[{\"id\":\"321c76a8-a624-4144-abac-29835debffd5\",\"type\":\"SaveTool\"}]},\"id\":\"40c8969b-c429-4c67-8bc3-fc16c6e545c0\",\"type\":\"Toolbar\"},{\"attributes\":{\"formatter\":{\"id\":\"86959c84-e9dd-4430-880e-cdc299894f98\",\"type\":\"BasicTickFormatter\"},\"plot\":{\"id\":\"81a7bd93-da94-428d-8335-83ab71992b2d\",\"subtype\":\"Figure\",\"type\":\"Plot\"},\"ticker\":{\"id\":\"ae856b8b-edfc-4131-bf8a-44c32fc0cb9b\",\"type\":\"BasicTicker\"}},\"id\":\"4459ab25-300c-41dc-a96a-37d48e1505ee\",\"type\":\"LinearAxis\"},{\"attributes\":{\"plot\":null,\"text\":\"IV\"},\"id\":\"fa35745a-0d27-43e6-819b-220eb6e6b813\",\"type\":\"Title\"},{\"attributes\":{\"line_color\":{\"value\":\"red\"},\"line_width\":{\"value\":2},\"x\":{\"field\":\"x\"},\"y\":{\"field\":\"y\"}},\"id\":\"1e9b3da5-7bdf-4399-9461-a8ed67db3ef8\",\"type\":\"Line\"},{\"attributes\":{},\"id\":\"fa5d1d66-4682-4861-8b12-93f523523f08\",\"type\":\"BasicTickFormatter\"}],\"root_ids\":[\"a609764d-7b3f-41c7-991a-4e95e66c738f\"]},\"title\":\"Bokeh Application\",\"version\":\"0.12.0\"}};\n",
       "            var render_items = [{\"docid\":\"7c4ba499-0c4a-41dc-b69a-2fad5291ef1a\",\"elementid\":\"695b88f4-4934-4575-abfd-34d4e3d57162\",\"modelid\":\"a609764d-7b3f-41c7-991a-4e95e66c738f\",\"notebook_comms_target\":\"455a5faa-72a3-4abc-9140-ec724f8f0d09\"}];\n",
       "            \n",
       "            Bokeh.embed.embed_items(docs_json, render_items);\n",
       "        });\n",
       "      },\n",
       "      function(Bokeh) {\n",
       "      }\n",
       "    ];\n",
       "  \n",
       "    function run_inline_js() {\n",
       "      for (var i = 0; i < inline_js.length; i++) {\n",
       "        inline_js[i](window.Bokeh);\n",
       "      }\n",
       "    }\n",
       "  \n",
       "    if (window._bokeh_is_loading === 0) {\n",
       "      console.log(\"Bokeh: BokehJS loaded, going straight to plotting\");\n",
       "      run_inline_js();\n",
       "    } else {\n",
       "      load_libs(js_urls, function() {\n",
       "        console.log(\"Bokeh: BokehJS plotting callback run at\", now());\n",
       "        run_inline_js();\n",
       "      });\n",
       "    }\n",
       "  }(this));\n",
       "</script>"
      ]
     },
     "metadata": {},
     "output_type": "display_data"
    },
    {
     "data": {
      "text/html": [
       "<p><code>&lt;Bokeh Notebook handle for <strong>In[21]</strong>&gt;</code></p>"
      ],
      "text/plain": [
       "<bokeh.io._CommsHandle at 0x10346ef90>"
      ]
     },
     "execution_count": 21,
     "metadata": {},
     "output_type": "execute_result"
    }
   ],
   "source": [
    "show(grid)"
   ]
  },
  {
   "cell_type": "markdown",
   "metadata": {},
   "source": [
    "- One of the great strengths of data visualization is our ability to process visual information much more rapidly than verbal information.  \n",
    "- differences in length, size, hue, color intensity, angle, texture, shape, and so on, as the building blocks of data visualization.  \n",
    "- When we do so in an informed manner, we have the ability to transfer much of the work that is needed to decode the contents of a visual display, such as a graph, from the slower conscious, energy intensive parts of the brain to the faster parts of the brain that require less energy, which results in more efficient cognition.  \n",
    "- Good data visualization techniques and technologies, properly used, can extend our thinking into new realms of analytical sensemaking, and we are still only beginning to tap into this potential."
   ]
  },
  {
   "cell_type": "markdown",
   "metadata": {},
   "source": [
    "#### Tufte's criteria for good visualization:  \n",
    "- Graphical Excellence  \n",
    "- Visual Integrity\n",
    "- Maximizing the Data-Ink Ratio\n",
    "- Aesthetic Elegance"
   ]
  },
  {
   "cell_type": "code",
   "execution_count": null,
   "metadata": {
    "collapsed": true
   },
   "outputs": [],
   "source": []
  }
 ],
 "metadata": {
  "kernelspec": {
   "display_name": "Python 2",
   "language": "python",
   "name": "python2"
  },
  "language_info": {
   "codemirror_mode": {
    "name": "ipython",
    "version": 2
   },
   "file_extension": ".py",
   "mimetype": "text/x-python",
   "name": "python",
   "nbconvert_exporter": "python",
   "pygments_lexer": "ipython2",
   "version": "2.7.11"
  }
 },
 "nbformat": 4,
 "nbformat_minor": 0
}
