{
 "cells": [
  {
   "cell_type": "code",
   "execution_count": 1,
   "metadata": {
    "collapsed": false
   },
   "outputs": [],
   "source": [
    "from __future__ import division\n",
    "import pandas as pd\n",
    "import matplotlib.pyplot as plt\n",
    "import matplotlib\n",
    "import numpy as np\n",
    "from scipy.stats import pearsonr\n",
    "import qgrid\n",
    "from ipywidgets import interact, interactive, fixed\n",
    "import ipywidgets as widgets\n",
    "qgrid.nbinstall()\n",
    "%matplotlib inline\n",
    "plt.style.use(u'fivethirtyeight')"
   ]
  },
  {
   "cell_type": "raw",
   "metadata": {},
   "source": [
    "Title:  Exploratory Data Analysis and the Power of Data Visualization\n",
    "Author: Fernando Gelin\n",
    "Date:   July 27, 2016  "
   ]
  },
  {
   "cell_type": "markdown",
   "metadata": {},
   "source": [
    "# Power of Data Visualization"
   ]
  },
  {
   "cell_type": "markdown",
   "metadata": {},
   "source": [
    "### EDA"
   ]
  },
  {
   "cell_type": "markdown",
   "metadata": {},
   "source": [
    "- Data Analysis: process of transforming raw data into useful information.\n",
    "- Steps: data collection -> data cleaning -> some analysis -> insights/usefil information\n",
    "- Analysis: Descriptive Statistics, EDA, CDA"
   ]
  },
  {
   "cell_type": "code",
   "execution_count": 2,
   "metadata": {
    "collapsed": false
   },
   "outputs": [],
   "source": [
    "x = np.array([0, 10])\n",
    "y = np.array([0.5, 39.5])\n",
    "means = [x.mean(), y.mean()]  \n",
    "stds = [x.std() / 3, y.std() / 3]\n",
    "corr = 0.4      # correlation\n",
    "covs = [[stds[0]**2          , stds[0]*stds[1]*corr], \n",
    "        [stds[0]*stds[1]*corr,           stds[1]**2]] \n",
    "\n",
    "m = np.random.multivariate_normal(means, covs, 1000).T\n",
    "df = pd.DataFrame(m).T\n",
    "df.columns = ['x','y']"
   ]
  },
  {
   "cell_type": "markdown",
   "metadata": {},
   "source": [
    "Descriptive Statistics"
   ]
  },
  {
   "cell_type": "code",
   "execution_count": 3,
   "metadata": {
    "collapsed": false
   },
   "outputs": [
    {
     "data": {
      "text/html": [
       "<div>\n",
       "<table border=\"1\" class=\"dataframe\">\n",
       "  <thead>\n",
       "    <tr style=\"text-align: right;\">\n",
       "      <th></th>\n",
       "      <th>x</th>\n",
       "      <th>y</th>\n",
       "    </tr>\n",
       "  </thead>\n",
       "  <tbody>\n",
       "    <tr>\n",
       "      <th>0</th>\n",
       "      <td>3.889231</td>\n",
       "      <td>11.644851</td>\n",
       "    </tr>\n",
       "    <tr>\n",
       "      <th>1</th>\n",
       "      <td>3.662686</td>\n",
       "      <td>18.045810</td>\n",
       "    </tr>\n",
       "    <tr>\n",
       "      <th>2</th>\n",
       "      <td>4.201490</td>\n",
       "      <td>16.502862</td>\n",
       "    </tr>\n",
       "    <tr>\n",
       "      <th>3</th>\n",
       "      <td>6.172393</td>\n",
       "      <td>26.295497</td>\n",
       "    </tr>\n",
       "    <tr>\n",
       "      <th>4</th>\n",
       "      <td>7.363476</td>\n",
       "      <td>17.329156</td>\n",
       "    </tr>\n",
       "  </tbody>\n",
       "</table>\n",
       "</div>"
      ],
      "text/plain": [
       "          x          y\n",
       "0  3.889231  11.644851\n",
       "1  3.662686  18.045810\n",
       "2  4.201490  16.502862\n",
       "3  6.172393  26.295497\n",
       "4  7.363476  17.329156"
      ]
     },
     "execution_count": 3,
     "metadata": {},
     "output_type": "execute_result"
    }
   ],
   "source": [
    "df.head()"
   ]
  },
  {
   "cell_type": "code",
   "execution_count": 4,
   "metadata": {
    "collapsed": false
   },
   "outputs": [
    {
     "data": {
      "text/html": [
       "<div>\n",
       "<table border=\"1\" class=\"dataframe\">\n",
       "  <thead>\n",
       "    <tr style=\"text-align: right;\">\n",
       "      <th></th>\n",
       "      <th>x</th>\n",
       "      <th>y</th>\n",
       "    </tr>\n",
       "  </thead>\n",
       "  <tbody>\n",
       "    <tr>\n",
       "      <th>count</th>\n",
       "      <td>1000.000000</td>\n",
       "      <td>1000.000000</td>\n",
       "    </tr>\n",
       "    <tr>\n",
       "      <th>mean</th>\n",
       "      <td>4.979006</td>\n",
       "      <td>19.820296</td>\n",
       "    </tr>\n",
       "    <tr>\n",
       "      <th>std</th>\n",
       "      <td>1.765230</td>\n",
       "      <td>6.637059</td>\n",
       "    </tr>\n",
       "    <tr>\n",
       "      <th>min</th>\n",
       "      <td>-1.446836</td>\n",
       "      <td>-5.563703</td>\n",
       "    </tr>\n",
       "    <tr>\n",
       "      <th>25%</th>\n",
       "      <td>3.833889</td>\n",
       "      <td>15.474198</td>\n",
       "    </tr>\n",
       "    <tr>\n",
       "      <th>50%</th>\n",
       "      <td>5.022812</td>\n",
       "      <td>19.792793</td>\n",
       "    </tr>\n",
       "    <tr>\n",
       "      <th>75%</th>\n",
       "      <td>6.200369</td>\n",
       "      <td>23.927350</td>\n",
       "    </tr>\n",
       "    <tr>\n",
       "      <th>max</th>\n",
       "      <td>10.053218</td>\n",
       "      <td>42.528233</td>\n",
       "    </tr>\n",
       "  </tbody>\n",
       "</table>\n",
       "</div>"
      ],
      "text/plain": [
       "                 x            y\n",
       "count  1000.000000  1000.000000\n",
       "mean      4.979006    19.820296\n",
       "std       1.765230     6.637059\n",
       "min      -1.446836    -5.563703\n",
       "25%       3.833889    15.474198\n",
       "50%       5.022812    19.792793\n",
       "75%       6.200369    23.927350\n",
       "max      10.053218    42.528233"
      ]
     },
     "execution_count": 4,
     "metadata": {},
     "output_type": "execute_result"
    }
   ],
   "source": [
    "df.describe()"
   ]
  },
  {
   "cell_type": "code",
   "execution_count": 5,
   "metadata": {
    "collapsed": false
   },
   "outputs": [
    {
     "data": {
      "text/plain": [
       "<matplotlib.axes._subplots.AxesSubplot at 0x10ec123d0>"
      ]
     },
     "execution_count": 5,
     "metadata": {},
     "output_type": "execute_result"
    },
    {
     "data": {
      "image/png": "[encoded data removed]",
      "text/plain": [
       "<matplotlib.figure.Figure at 0x103f85510>"
      ]
     },
     "metadata": {},
     "output_type": "display_data"
    }
   ],
   "source": [
    "df.boxplot(return_type='axes')"
   ]
  },
  {
   "cell_type": "code",
   "execution_count": 6,
   "metadata": {
    "collapsed": false
   },
   "outputs": [],
   "source": [
    "slope, intercept = np.polyfit(df['x'], df['y'], 1)\n",
    "x = np.linspace(0, 10, 10)\n",
    "y = intercept + slope * x"
   ]
  },
  {
   "cell_type": "code",
   "execution_count": 7,
   "metadata": {
    "collapsed": false
   },
   "outputs": [
    {
     "data": {
      "text/plain": [
       "<matplotlib.collections.PathCollection at 0x111de79d0>"
      ]
     },
     "execution_count": 7,
     "metadata": {},
     "output_type": "execute_result"
    },
    {
     "data": {
      "image/png": "[encoded data removed]",
      "text/plain": [
       "<matplotlib.figure.Figure at 0x10ef04510>"
      ]
     },
     "metadata": {},
     "output_type": "display_data"
    }
   ],
   "source": [
    "plt.scatter(df['x'], df['y'], color='black')"
   ]
  },
  {
   "cell_type": "code",
   "execution_count": 8,
   "metadata": {
    "collapsed": false
   },
   "outputs": [
    {
     "data": {
      "text/plain": [
       "[<matplotlib.lines.Line2D at 0x111d6f8d0>]"
      ]
     },
     "execution_count": 8,
     "metadata": {},
     "output_type": "execute_result"
    },
    {
     "data": {
      "image/png": "[encoded data removed]",
      "text/plain": [
       "<matplotlib.figure.Figure at 0x111d6f950>"
      ]
     },
     "metadata": {},
     "output_type": "display_data"
    }
   ],
   "source": [
    "plt.scatter(df['x'], df['y'], color='black')\n",
    "plt.plot(x, slope * x + intercept, color='gray')"
   ]
  },
  {
   "cell_type": "markdown",
   "metadata": {},
   "source": [
    "Confirmatory Data Analysis"
   ]
  },
  {
   "cell_type": "code",
   "execution_count": 9,
   "metadata": {
    "collapsed": false
   },
   "outputs": [
    {
     "data": {
      "text/plain": [
       "(0.41013177159574027, 7.4913037836224066e-42)"
      ]
     },
     "execution_count": 9,
     "metadata": {},
     "output_type": "execute_result"
    }
   ],
   "source": [
    "pearsonr(df['x'], df['y'])"
   ]
  },
  {
   "cell_type": "markdown",
   "metadata": {},
   "source": [
    "#### EDA: \n",
    "- normaly includes descriptive statistics\n",
    "- does not involve hypothesis testing\n",
    "- highly graphical\n",
    "- iterative and interactive\n",
    "- discover patterns from data\n",
    "- make hypotheses based on patterns discovered\n",
    "- identify and handle missing data"
   ]
  },
  {
   "cell_type": "markdown",
   "metadata": {},
   "source": [
    "##### Case Study 1: Cigarette Sales in the US  \n",
    "##### Case Study 2: Seattle Bike Share"
   ]
  },
  {
   "cell_type": "markdown",
   "metadata": {},
   "source": [
    "## Power of Data Visualization"
   ]
  },
  {
   "cell_type": "markdown",
   "metadata": {},
   "source": [
    "Goals\n",
    "- sense-making: Discover (EDA) and understand stories\n",
    "- communication: Tell a story"
   ]
  },
  {
   "cell_type": "markdown",
   "metadata": {},
   "source": [
    "Good Visualization take into account:\n",
    "- visual perception and cognition\n",
    "- design principles that derive from human perception"
   ]
  },
  {
   "cell_type": "code",
   "execution_count": 22,
   "metadata": {
    "collapsed": false
   },
   "outputs": [
    {
     "data": {
      "text/html": [
       "\n",
       "    <div class=\"bk-root\">\n",
       "        <a href=\"http://bokeh.pydata.org\" target=\"_blank\" class=\"bk-logo bk-logo-small bk-logo-notebook\"></a>\n",
       "        <span id=\"c3521e6c-57cc-48ce-9918-455abb865975\">Loading BokehJS ...</span>\n",
       "    </div>"
      ]
     },
     "metadata": {},
     "output_type": "display_data"
    },
    {
     "data": {
      "application/javascript": [
       "\n",
       "(function(global) {\n",
       "  function now() {\n",
       "    return new Date();\n",
       "  }\n",
       "\n",
       "  if (typeof (window._bokeh_onload_callbacks) === \"undefined\") {\n",
       "    window._bokeh_onload_callbacks = [];\n",
       "  }\n",
       "\n",
       "  function run_callbacks() {\n",
       "    window._bokeh_onload_callbacks.forEach(function(callback) { callback() });\n",
       "    delete window._bokeh_onload_callbacks\n",
       "    console.info(\"Bokeh: all callbacks have finished\");\n",
       "  }\n",
       "\n",
       "  function load_libs(js_urls, callback) {\n",
       "    window._bokeh_onload_callbacks.push(callback);\n",
       "    if (window._bokeh_is_loading > 0) {\n",
       "      console.log(\"Bokeh: BokehJS is being loaded, scheduling callback at\", now());\n",
       "      return null;\n",
       "    }\n",
       "    if (js_urls == null || js_urls.length === 0) {\n",
       "      run_callbacks();\n",
       "      return null;\n",
       "    }\n",
       "    console.log(\"Bokeh: BokehJS not loaded, scheduling load and callback at\", now());\n",
       "    window._bokeh_is_loading = js_urls.length;\n",
       "    for (var i = 0; i < js_urls.length; i++) {\n",
       "      var url = js_urls[i];\n",
       "      var s = document.createElement('script');\n",
       "      s.src = url;\n",
       "      s.async = false;\n",
       "      s.onreadystatechange = s.onload = function() {\n",
       "        window._bokeh_is_loading--;\n",
       "        if (window._bokeh_is_loading === 0) {\n",
       "          console.log(\"Bokeh: all BokehJS libraries loaded\");\n",
       "          run_callbacks()\n",
       "        }\n",
       "      };\n",
       "      s.onerror = function() {\n",
       "        console.warn(\"failed to load library \" + url);\n",
       "      };\n",
       "      console.log(\"Bokeh: injecting script tag for BokehJS library: \", url);\n",
       "      document.getElementsByTagName(\"head\")[0].appendChild(s);\n",
       "    }\n",
       "  };\n",
       "\n",
       "  var js_urls = ['https://cdn.pydata.org/bokeh/release/bokeh-0.12.0.min.js', 'https://cdn.pydata.org/bokeh/release/bokeh-widgets-0.12.0.min.js', 'https://cdn.pydata.org/bokeh/release/bokeh-compiler-0.12.0.min.js'];\n",
       "\n",
       "  var inline_js = [\n",
       "    function(Bokeh) {\n",
       "      Bokeh.set_log_level(\"info\");\n",
       "    },\n",
       "    \n",
       "    function(Bokeh) {\n",
       "      Bokeh.$(\"#c3521e6c-57cc-48ce-9918-455abb865975\").text(\"BokehJS successfully loaded\");\n",
       "    },\n",
       "    function(Bokeh) {\n",
       "      console.log(\"Bokeh: injecting CSS: https://cdn.pydata.org/bokeh/release/bokeh-0.12.0.min.css\");\n",
       "      Bokeh.embed.inject_css(\"https://cdn.pydata.org/bokeh/release/bokeh-0.12.0.min.css\");\n",
       "      console.log(\"Bokeh: injecting CSS: https://cdn.pydata.org/bokeh/release/bokeh-widgets-0.12.0.min.css\");\n",
       "      Bokeh.embed.inject_css(\"https://cdn.pydata.org/bokeh/release/bokeh-widgets-0.12.0.min.css\");\n",
       "    }\n",
       "  ];\n",
       "\n",
       "  function run_inline_js() {\n",
       "    for (var i = 0; i < inline_js.length; i++) {\n",
       "      inline_js[i](window.Bokeh);\n",
       "    }\n",
       "  }\n",
       "\n",
       "  if (window._bokeh_is_loading === 0) {\n",
       "    console.log(\"Bokeh: BokehJS loaded, going straight to plotting\");\n",
       "    run_inline_js();\n",
       "  } else {\n",
       "    load_libs(js_urls, function() {\n",
       "      console.log(\"Bokeh: BokehJS plotting callback run at\", now());\n",
       "      run_inline_js();\n",
       "    });\n",
       "  }\n",
       "}(this));"
      ]
     },
     "metadata": {},
     "output_type": "display_data"
    }
   ],
   "source": [
    "from __future__ import print_function\n",
    "\n",
    "import numpy as np\n",
    "import pandas as pd\n",
    "import seaborn as sns\n",
    "\n",
    "from bokeh.embed import file_html\n",
    "from bokeh.layouts import gridplot\n",
    "from bokeh.models.glyphs import Circle, Line\n",
    "from bokeh.models import ColumnDataSource, Grid, LinearAxis, Plot, Range1d\n",
    "from bokeh.plotting import output_notebook, show, figure, output_file, save\n",
    "output_notebook()"
   ]
  },
  {
   "cell_type": "code",
   "execution_count": 23,
   "metadata": {
    "collapsed": true
   },
   "outputs": [],
   "source": [
    "raw_columns=[\n",
    "[10.0,   8.04,   10.0,   9.14,   10.0,   7.46,   8.0,    6.58],\n",
    "[8.0,    6.95,   8.0,    8.14,   8.0,    6.77,   8.0,    5.76],\n",
    "[13.0,   7.58,   13.0,   8.74,   13.0,   12.74,  8.0,    7.71],\n",
    "[9.0,    8.81,   9.0,    8.77,   9.0,    7.11,   8.0,    8.84],\n",
    "[11.0,   8.33,   11.0,   9.26,   11.0,   7.81,   8.0,    8.47],\n",
    "[14.0,   9.96,   14.0,   8.10,   14.0,   8.84,   8.0,    7.04],\n",
    "[6.0,    7.24,   6.0,    6.13,   6.0,    6.08,   8.0,    5.25],\n",
    "[4.0,    4.26,   4.0,    3.10,   4.0,    5.39,   19.0,   12.5],\n",
    "[12.0,   10.84,  12.0,   9.13,   12.0,   8.15,   8.0,    5.56],\n",
    "[7.0,    4.82,   7.0,    7.26,   7.0,    6.42,   8.0,    7.91],\n",
    "[5.0,    5.68,   5.0,    4.74,   5.0,    5.73,   8.0,    6.89]]\n",
    "\n",
    "quartet = pd.DataFrame(data=raw_columns, columns=\n",
    "                       ['Ix','Iy','IIx','IIy','IIIx','IIIy','IVx','IVy'])"
   ]
  },
  {
   "cell_type": "code",
   "execution_count": 44,
   "metadata": {
    "collapsed": false
   },
   "outputs": [
    {
     "data": {
      "text/html": [
       "<div>\n",
       "<table border=\"1\" class=\"dataframe\">\n",
       "  <thead>\n",
       "    <tr style=\"text-align: right;\">\n",
       "      <th></th>\n",
       "      <th>Ix</th>\n",
       "      <th>Iy</th>\n",
       "    </tr>\n",
       "  </thead>\n",
       "  <tbody>\n",
       "    <tr>\n",
       "      <th>0</th>\n",
       "      <td>10</td>\n",
       "      <td>8.04</td>\n",
       "    </tr>\n",
       "    <tr>\n",
       "      <th>1</th>\n",
       "      <td>8</td>\n",
       "      <td>6.95</td>\n",
       "    </tr>\n",
       "    <tr>\n",
       "      <th>2</th>\n",
       "      <td>13</td>\n",
       "      <td>7.58</td>\n",
       "    </tr>\n",
       "    <tr>\n",
       "      <th>3</th>\n",
       "      <td>9</td>\n",
       "      <td>8.81</td>\n",
       "    </tr>\n",
       "    <tr>\n",
       "      <th>4</th>\n",
       "      <td>11</td>\n",
       "      <td>8.33</td>\n",
       "    </tr>\n",
       "    <tr>\n",
       "      <th>5</th>\n",
       "      <td>14</td>\n",
       "      <td>9.96</td>\n",
       "    </tr>\n",
       "    <tr>\n",
       "      <th>6</th>\n",
       "      <td>6</td>\n",
       "      <td>7.24</td>\n",
       "    </tr>\n",
       "    <tr>\n",
       "      <th>7</th>\n",
       "      <td>4</td>\n",
       "      <td>4.26</td>\n",
       "    </tr>\n",
       "    <tr>\n",
       "      <th>8</th>\n",
       "      <td>12</td>\n",
       "      <td>10.84</td>\n",
       "    </tr>\n",
       "    <tr>\n",
       "      <th>9</th>\n",
       "      <td>7</td>\n",
       "      <td>4.82</td>\n",
       "    </tr>\n",
       "    <tr>\n",
       "      <th>10</th>\n",
       "      <td>5</td>\n",
       "      <td>5.68</td>\n",
       "    </tr>\n",
       "  </tbody>\n",
       "</table>\n",
       "</div>"
      ],
      "text/plain": [
       "    Ix     Iy\n",
       "0   10   8.04\n",
       "1    8   6.95\n",
       "2   13   7.58\n",
       "3    9   8.81\n",
       "4   11   8.33\n",
       "5   14   9.96\n",
       "6    6   7.24\n",
       "7    4   4.26\n",
       "8   12  10.84\n",
       "9    7   4.82\n",
       "10   5   5.68"
      ]
     },
     "execution_count": 44,
     "metadata": {},
     "output_type": "execute_result"
    }
   ],
   "source": [
    "quartet[['Ix', 'Iy']]"
   ]
  },
  {
   "cell_type": "code",
   "execution_count": 45,
   "metadata": {
    "collapsed": false
   },
   "outputs": [
    {
     "data": {
      "text/html": [
       "<div>\n",
       "<table border=\"1\" class=\"dataframe\">\n",
       "  <thead>\n",
       "    <tr style=\"text-align: right;\">\n",
       "      <th></th>\n",
       "      <th>IIx</th>\n",
       "      <th>IIy</th>\n",
       "    </tr>\n",
       "  </thead>\n",
       "  <tbody>\n",
       "    <tr>\n",
       "      <th>0</th>\n",
       "      <td>10</td>\n",
       "      <td>9.14</td>\n",
       "    </tr>\n",
       "    <tr>\n",
       "      <th>1</th>\n",
       "      <td>8</td>\n",
       "      <td>8.14</td>\n",
       "    </tr>\n",
       "    <tr>\n",
       "      <th>2</th>\n",
       "      <td>13</td>\n",
       "      <td>8.74</td>\n",
       "    </tr>\n",
       "    <tr>\n",
       "      <th>3</th>\n",
       "      <td>9</td>\n",
       "      <td>8.77</td>\n",
       "    </tr>\n",
       "    <tr>\n",
       "      <th>4</th>\n",
       "      <td>11</td>\n",
       "      <td>9.26</td>\n",
       "    </tr>\n",
       "    <tr>\n",
       "      <th>5</th>\n",
       "      <td>14</td>\n",
       "      <td>8.10</td>\n",
       "    </tr>\n",
       "    <tr>\n",
       "      <th>6</th>\n",
       "      <td>6</td>\n",
       "      <td>6.13</td>\n",
       "    </tr>\n",
       "    <tr>\n",
       "      <th>7</th>\n",
       "      <td>4</td>\n",
       "      <td>3.10</td>\n",
       "    </tr>\n",
       "    <tr>\n",
       "      <th>8</th>\n",
       "      <td>12</td>\n",
       "      <td>9.13</td>\n",
       "    </tr>\n",
       "    <tr>\n",
       "      <th>9</th>\n",
       "      <td>7</td>\n",
       "      <td>7.26</td>\n",
       "    </tr>\n",
       "    <tr>\n",
       "      <th>10</th>\n",
       "      <td>5</td>\n",
       "      <td>4.74</td>\n",
       "    </tr>\n",
       "  </tbody>\n",
       "</table>\n",
       "</div>"
      ],
      "text/plain": [
       "    IIx   IIy\n",
       "0    10  9.14\n",
       "1     8  8.14\n",
       "2    13  8.74\n",
       "3     9  8.77\n",
       "4    11  9.26\n",
       "5    14  8.10\n",
       "6     6  6.13\n",
       "7     4  3.10\n",
       "8    12  9.13\n",
       "9     7  7.26\n",
       "10    5  4.74"
      ]
     },
     "execution_count": 45,
     "metadata": {},
     "output_type": "execute_result"
    }
   ],
   "source": [
    "quartet[['IIx', 'IIy']]"
   ]
  },
  {
   "cell_type": "code",
   "execution_count": 46,
   "metadata": {
    "collapsed": false
   },
   "outputs": [
    {
     "data": {
      "text/html": [
       "<div>\n",
       "<table border=\"1\" class=\"dataframe\">\n",
       "  <thead>\n",
       "    <tr style=\"text-align: right;\">\n",
       "      <th></th>\n",
       "      <th>IIIx</th>\n",
       "      <th>IIIy</th>\n",
       "    </tr>\n",
       "  </thead>\n",
       "  <tbody>\n",
       "    <tr>\n",
       "      <th>0</th>\n",
       "      <td>10</td>\n",
       "      <td>7.46</td>\n",
       "    </tr>\n",
       "    <tr>\n",
       "      <th>1</th>\n",
       "      <td>8</td>\n",
       "      <td>6.77</td>\n",
       "    </tr>\n",
       "    <tr>\n",
       "      <th>2</th>\n",
       "      <td>13</td>\n",
       "      <td>12.74</td>\n",
       "    </tr>\n",
       "    <tr>\n",
       "      <th>3</th>\n",
       "      <td>9</td>\n",
       "      <td>7.11</td>\n",
       "    </tr>\n",
       "    <tr>\n",
       "      <th>4</th>\n",
       "      <td>11</td>\n",
       "      <td>7.81</td>\n",
       "    </tr>\n",
       "    <tr>\n",
       "      <th>5</th>\n",
       "      <td>14</td>\n",
       "      <td>8.84</td>\n",
       "    </tr>\n",
       "    <tr>\n",
       "      <th>6</th>\n",
       "      <td>6</td>\n",
       "      <td>6.08</td>\n",
       "    </tr>\n",
       "    <tr>\n",
       "      <th>7</th>\n",
       "      <td>4</td>\n",
       "      <td>5.39</td>\n",
       "    </tr>\n",
       "    <tr>\n",
       "      <th>8</th>\n",
       "      <td>12</td>\n",
       "      <td>8.15</td>\n",
       "    </tr>\n",
       "    <tr>\n",
       "      <th>9</th>\n",
       "      <td>7</td>\n",
       "      <td>6.42</td>\n",
       "    </tr>\n",
       "    <tr>\n",
       "      <th>10</th>\n",
       "      <td>5</td>\n",
       "      <td>5.73</td>\n",
       "    </tr>\n",
       "  </tbody>\n",
       "</table>\n",
       "</div>"
      ],
      "text/plain": [
       "    IIIx   IIIy\n",
       "0     10   7.46\n",
       "1      8   6.77\n",
       "2     13  12.74\n",
       "3      9   7.11\n",
       "4     11   7.81\n",
       "5     14   8.84\n",
       "6      6   6.08\n",
       "7      4   5.39\n",
       "8     12   8.15\n",
       "9      7   6.42\n",
       "10     5   5.73"
      ]
     },
     "execution_count": 46,
     "metadata": {},
     "output_type": "execute_result"
    }
   ],
   "source": [
    "quartet[['IIIx', 'IIIy']]"
   ]
  },
  {
   "cell_type": "code",
   "execution_count": 48,
   "metadata": {
    "collapsed": false
   },
   "outputs": [
    {
     "data": {
      "text/html": [
       "<div>\n",
       "<table border=\"1\" class=\"dataframe\">\n",
       "  <thead>\n",
       "    <tr style=\"text-align: right;\">\n",
       "      <th></th>\n",
       "      <th>IVx</th>\n",
       "      <th>IVy</th>\n",
       "    </tr>\n",
       "  </thead>\n",
       "  <tbody>\n",
       "    <tr>\n",
       "      <th>0</th>\n",
       "      <td>8</td>\n",
       "      <td>6.58</td>\n",
       "    </tr>\n",
       "    <tr>\n",
       "      <th>1</th>\n",
       "      <td>8</td>\n",
       "      <td>5.76</td>\n",
       "    </tr>\n",
       "    <tr>\n",
       "      <th>2</th>\n",
       "      <td>8</td>\n",
       "      <td>7.71</td>\n",
       "    </tr>\n",
       "    <tr>\n",
       "      <th>3</th>\n",
       "      <td>8</td>\n",
       "      <td>8.84</td>\n",
       "    </tr>\n",
       "    <tr>\n",
       "      <th>4</th>\n",
       "      <td>8</td>\n",
       "      <td>8.47</td>\n",
       "    </tr>\n",
       "    <tr>\n",
       "      <th>5</th>\n",
       "      <td>8</td>\n",
       "      <td>7.04</td>\n",
       "    </tr>\n",
       "    <tr>\n",
       "      <th>6</th>\n",
       "      <td>8</td>\n",
       "      <td>5.25</td>\n",
       "    </tr>\n",
       "    <tr>\n",
       "      <th>7</th>\n",
       "      <td>19</td>\n",
       "      <td>12.50</td>\n",
       "    </tr>\n",
       "    <tr>\n",
       "      <th>8</th>\n",
       "      <td>8</td>\n",
       "      <td>5.56</td>\n",
       "    </tr>\n",
       "    <tr>\n",
       "      <th>9</th>\n",
       "      <td>8</td>\n",
       "      <td>7.91</td>\n",
       "    </tr>\n",
       "    <tr>\n",
       "      <th>10</th>\n",
       "      <td>8</td>\n",
       "      <td>6.89</td>\n",
       "    </tr>\n",
       "  </tbody>\n",
       "</table>\n",
       "</div>"
      ],
      "text/plain": [
       "    IVx    IVy\n",
       "0     8   6.58\n",
       "1     8   5.76\n",
       "2     8   7.71\n",
       "3     8   8.84\n",
       "4     8   8.47\n",
       "5     8   7.04\n",
       "6     8   5.25\n",
       "7    19  12.50\n",
       "8     8   5.56\n",
       "9     8   7.91\n",
       "10    8   6.89"
      ]
     },
     "execution_count": 48,
     "metadata": {},
     "output_type": "execute_result"
    }
   ],
   "source": [
    "quartet[['IVx', 'IVy']]"
   ]
  },
  {
   "cell_type": "code",
   "execution_count": 25,
   "metadata": {
    "collapsed": false
   },
   "outputs": [
    {
     "data": {
      "text/html": [
       "<div>\n",
       "<table border=\"1\" class=\"dataframe\">\n",
       "  <thead>\n",
       "    <tr style=\"text-align: right;\">\n",
       "      <th></th>\n",
       "      <th>Ix</th>\n",
       "      <th>Iy</th>\n",
       "    </tr>\n",
       "  </thead>\n",
       "  <tbody>\n",
       "    <tr>\n",
       "      <th>count</th>\n",
       "      <td>11.000000</td>\n",
       "      <td>11.000000</td>\n",
       "    </tr>\n",
       "    <tr>\n",
       "      <th>mean</th>\n",
       "      <td>9.000000</td>\n",
       "      <td>7.500909</td>\n",
       "    </tr>\n",
       "    <tr>\n",
       "      <th>std</th>\n",
       "      <td>3.316625</td>\n",
       "      <td>2.031568</td>\n",
       "    </tr>\n",
       "    <tr>\n",
       "      <th>min</th>\n",
       "      <td>4.000000</td>\n",
       "      <td>4.260000</td>\n",
       "    </tr>\n",
       "    <tr>\n",
       "      <th>25%</th>\n",
       "      <td>6.500000</td>\n",
       "      <td>6.315000</td>\n",
       "    </tr>\n",
       "    <tr>\n",
       "      <th>50%</th>\n",
       "      <td>9.000000</td>\n",
       "      <td>7.580000</td>\n",
       "    </tr>\n",
       "    <tr>\n",
       "      <th>75%</th>\n",
       "      <td>11.500000</td>\n",
       "      <td>8.570000</td>\n",
       "    </tr>\n",
       "    <tr>\n",
       "      <th>max</th>\n",
       "      <td>14.000000</td>\n",
       "      <td>10.840000</td>\n",
       "    </tr>\n",
       "  </tbody>\n",
       "</table>\n",
       "</div>"
      ],
      "text/plain": [
       "              Ix         Iy\n",
       "count  11.000000  11.000000\n",
       "mean    9.000000   7.500909\n",
       "std     3.316625   2.031568\n",
       "min     4.000000   4.260000\n",
       "25%     6.500000   6.315000\n",
       "50%     9.000000   7.580000\n",
       "75%    11.500000   8.570000\n",
       "max    14.000000  10.840000"
      ]
     },
     "execution_count": 25,
     "metadata": {},
     "output_type": "execute_result"
    }
   ],
   "source": [
    "quartet[['Ix', 'Iy']].describe()"
   ]
  },
  {
   "cell_type": "code",
   "execution_count": 26,
   "metadata": {
    "collapsed": false
   },
   "outputs": [
    {
     "data": {
      "text/html": [
       "<div>\n",
       "<table border=\"1\" class=\"dataframe\">\n",
       "  <thead>\n",
       "    <tr style=\"text-align: right;\">\n",
       "      <th></th>\n",
       "      <th>IIx</th>\n",
       "      <th>IIy</th>\n",
       "    </tr>\n",
       "  </thead>\n",
       "  <tbody>\n",
       "    <tr>\n",
       "      <th>count</th>\n",
       "      <td>11.000000</td>\n",
       "      <td>11.000000</td>\n",
       "    </tr>\n",
       "    <tr>\n",
       "      <th>mean</th>\n",
       "      <td>9.000000</td>\n",
       "      <td>7.500909</td>\n",
       "    </tr>\n",
       "    <tr>\n",
       "      <th>std</th>\n",
       "      <td>3.316625</td>\n",
       "      <td>2.031657</td>\n",
       "    </tr>\n",
       "    <tr>\n",
       "      <th>min</th>\n",
       "      <td>4.000000</td>\n",
       "      <td>3.100000</td>\n",
       "    </tr>\n",
       "    <tr>\n",
       "      <th>25%</th>\n",
       "      <td>6.500000</td>\n",
       "      <td>6.695000</td>\n",
       "    </tr>\n",
       "    <tr>\n",
       "      <th>50%</th>\n",
       "      <td>9.000000</td>\n",
       "      <td>8.140000</td>\n",
       "    </tr>\n",
       "    <tr>\n",
       "      <th>75%</th>\n",
       "      <td>11.500000</td>\n",
       "      <td>8.950000</td>\n",
       "    </tr>\n",
       "    <tr>\n",
       "      <th>max</th>\n",
       "      <td>14.000000</td>\n",
       "      <td>9.260000</td>\n",
       "    </tr>\n",
       "  </tbody>\n",
       "</table>\n",
       "</div>"
      ],
      "text/plain": [
       "             IIx        IIy\n",
       "count  11.000000  11.000000\n",
       "mean    9.000000   7.500909\n",
       "std     3.316625   2.031657\n",
       "min     4.000000   3.100000\n",
       "25%     6.500000   6.695000\n",
       "50%     9.000000   8.140000\n",
       "75%    11.500000   8.950000\n",
       "max    14.000000   9.260000"
      ]
     },
     "execution_count": 26,
     "metadata": {},
     "output_type": "execute_result"
    }
   ],
   "source": [
    "quartet[['IIx', 'IIy']].describe()"
   ]
  },
  {
   "cell_type": "code",
   "execution_count": 27,
   "metadata": {
    "collapsed": false
   },
   "outputs": [
    {
     "data": {
      "text/html": [
       "<div>\n",
       "<table border=\"1\" class=\"dataframe\">\n",
       "  <thead>\n",
       "    <tr style=\"text-align: right;\">\n",
       "      <th></th>\n",
       "      <th>IIIx</th>\n",
       "      <th>IIIy</th>\n",
       "    </tr>\n",
       "  </thead>\n",
       "  <tbody>\n",
       "    <tr>\n",
       "      <th>count</th>\n",
       "      <td>11.000000</td>\n",
       "      <td>11.000000</td>\n",
       "    </tr>\n",
       "    <tr>\n",
       "      <th>mean</th>\n",
       "      <td>9.000000</td>\n",
       "      <td>7.500000</td>\n",
       "    </tr>\n",
       "    <tr>\n",
       "      <th>std</th>\n",
       "      <td>3.316625</td>\n",
       "      <td>2.030424</td>\n",
       "    </tr>\n",
       "    <tr>\n",
       "      <th>min</th>\n",
       "      <td>4.000000</td>\n",
       "      <td>5.390000</td>\n",
       "    </tr>\n",
       "    <tr>\n",
       "      <th>25%</th>\n",
       "      <td>6.500000</td>\n",
       "      <td>6.250000</td>\n",
       "    </tr>\n",
       "    <tr>\n",
       "      <th>50%</th>\n",
       "      <td>9.000000</td>\n",
       "      <td>7.110000</td>\n",
       "    </tr>\n",
       "    <tr>\n",
       "      <th>75%</th>\n",
       "      <td>11.500000</td>\n",
       "      <td>7.980000</td>\n",
       "    </tr>\n",
       "    <tr>\n",
       "      <th>max</th>\n",
       "      <td>14.000000</td>\n",
       "      <td>12.740000</td>\n",
       "    </tr>\n",
       "  </tbody>\n",
       "</table>\n",
       "</div>"
      ],
      "text/plain": [
       "            IIIx       IIIy\n",
       "count  11.000000  11.000000\n",
       "mean    9.000000   7.500000\n",
       "std     3.316625   2.030424\n",
       "min     4.000000   5.390000\n",
       "25%     6.500000   6.250000\n",
       "50%     9.000000   7.110000\n",
       "75%    11.500000   7.980000\n",
       "max    14.000000  12.740000"
      ]
     },
     "execution_count": 27,
     "metadata": {},
     "output_type": "execute_result"
    }
   ],
   "source": [
    "quartet[['IIIx', 'IIIy']].describe()"
   ]
  },
  {
   "cell_type": "code",
   "execution_count": 28,
   "metadata": {
    "collapsed": false
   },
   "outputs": [
    {
     "data": {
      "text/html": [
       "<div>\n",
       "<table border=\"1\" class=\"dataframe\">\n",
       "  <thead>\n",
       "    <tr style=\"text-align: right;\">\n",
       "      <th></th>\n",
       "      <th>IVx</th>\n",
       "      <th>IVy</th>\n",
       "    </tr>\n",
       "  </thead>\n",
       "  <tbody>\n",
       "    <tr>\n",
       "      <th>count</th>\n",
       "      <td>11.000000</td>\n",
       "      <td>11.000000</td>\n",
       "    </tr>\n",
       "    <tr>\n",
       "      <th>mean</th>\n",
       "      <td>9.000000</td>\n",
       "      <td>7.500909</td>\n",
       "    </tr>\n",
       "    <tr>\n",
       "      <th>std</th>\n",
       "      <td>3.316625</td>\n",
       "      <td>2.030579</td>\n",
       "    </tr>\n",
       "    <tr>\n",
       "      <th>min</th>\n",
       "      <td>8.000000</td>\n",
       "      <td>5.250000</td>\n",
       "    </tr>\n",
       "    <tr>\n",
       "      <th>25%</th>\n",
       "      <td>8.000000</td>\n",
       "      <td>6.170000</td>\n",
       "    </tr>\n",
       "    <tr>\n",
       "      <th>50%</th>\n",
       "      <td>8.000000</td>\n",
       "      <td>7.040000</td>\n",
       "    </tr>\n",
       "    <tr>\n",
       "      <th>75%</th>\n",
       "      <td>8.000000</td>\n",
       "      <td>8.190000</td>\n",
       "    </tr>\n",
       "    <tr>\n",
       "      <th>max</th>\n",
       "      <td>19.000000</td>\n",
       "      <td>12.500000</td>\n",
       "    </tr>\n",
       "  </tbody>\n",
       "</table>\n",
       "</div>"
      ],
      "text/plain": [
       "             IVx        IVy\n",
       "count  11.000000  11.000000\n",
       "mean    9.000000   7.500909\n",
       "std     3.316625   2.030579\n",
       "min     8.000000   5.250000\n",
       "25%     8.000000   6.170000\n",
       "50%     8.000000   7.040000\n",
       "75%     8.000000   8.190000\n",
       "max    19.000000  12.500000"
      ]
     },
     "execution_count": 28,
     "metadata": {},
     "output_type": "execute_result"
    }
   ],
   "source": [
    "quartet[['IVx', 'IVy']].describe()"
   ]
  },
  {
   "cell_type": "code",
   "execution_count": 42,
   "metadata": {
    "collapsed": false
   },
   "outputs": [],
   "source": [
    "circles_source = ColumnDataSource(\n",
    "    data = dict(\n",
    "        xi   = quartet['Ix'],\n",
    "        yi   = quartet['Iy'],\n",
    "        xii  = quartet['IIx'],\n",
    "        yii  = quartet['IIy'],\n",
    "        xiii = quartet['IIIx'],\n",
    "        yiii = quartet['IIIy'],\n",
    "        xiv  = quartet['IVx'],\n",
    "        yiv  = quartet['IVy'],\n",
    "    )\n",
    "   )\n",
    "\n",
    "x = np.linspace(-0.5, 20.5, 10)\n",
    "y = 3 + 0.5 * x\n",
    "lines_source = ColumnDataSource(data=dict(x=x, y=y))\n",
    "\n",
    "xdr = Range1d(start=-0.5, end=20.5)\n",
    "ydr = Range1d(start=-0.5, end=20.5)\n",
    "\n",
    "def make_plot(title, xname, yname):\n",
    "    plot = figure(x_range=xdr, y_range=ydr, plot_width=400, plot_height=400,\n",
    "                border_fill_color='white', background_fill_color='white', tools=['save'])\n",
    "    plot.title.text = title\n",
    "\n",
    "    line = Line(x='x', y='y', line_color='red', line_width=2)\n",
    "    plot.add_glyph(lines_source, line)\n",
    "\n",
    "    circle = Circle(\n",
    "        x=xname, y=yname, size=12,\n",
    "        fill_color='orange', line_alpha=0, fill_alpha=0.5\n",
    "    )\n",
    "    plot.add_glyph(circles_source, circle)\n",
    "\n",
    "    return plot\n",
    "\n",
    "#where will this comment show up\n",
    "I   = make_plot('I',   'xi',   'yi')\n",
    "II  = make_plot('II',  'xii',  'yii')\n",
    "III = make_plot('III', 'xiii', 'yiii')\n",
    "IV  = make_plot('IV',  'xiv',  'yiv')\n",
    "\n",
    "grid = gridplot([[I, II], [III, IV]])"
   ]
  },
  {
   "cell_type": "code",
   "execution_count": 43,
   "metadata": {
    "collapsed": false
   },
   "outputs": [
    {
     "data": {
      "text/html": [
       "\n",
       "\n",
       "    <div class=\"bk-root\">\n",
       "        <div class=\"plotdiv\" id=\"921d1813-b027-4537-b350-06ee308e80e4\"></div>\n",
       "    </div>\n",
       "<script type=\"text/javascript\">\n",
       "  \n",
       "  (function(global) {\n",
       "    function now() {\n",
       "      return new Date();\n",
       "    }\n",
       "  \n",
       "    if (typeof (window._bokeh_onload_callbacks) === \"undefined\") {\n",
       "      window._bokeh_onload_callbacks = [];\n",
       "    }\n",
       "  \n",
       "    function run_callbacks() {\n",
       "      window._bokeh_onload_callbacks.forEach(function(callback) { callback() });\n",
       "      delete window._bokeh_onload_callbacks\n",
       "      console.info(\"Bokeh: all callbacks have finished\");\n",
       "    }\n",
       "  \n",
       "    function load_libs(js_urls, callback) {\n",
       "      window._bokeh_onload_callbacks.push(callback);\n",
       "      if (window._bokeh_is_loading > 0) {\n",
       "        console.log(\"Bokeh: BokehJS is being loaded, scheduling callback at\", now());\n",
       "        return null;\n",
       "      }\n",
       "      if (js_urls == null || js_urls.length === 0) {\n",
       "        run_callbacks();\n",
       "        return null;\n",
       "      }\n",
       "      console.log(\"Bokeh: BokehJS not loaded, scheduling load and callback at\", now());\n",
       "      window._bokeh_is_loading = js_urls.length;\n",
       "      for (var i = 0; i < js_urls.length; i++) {\n",
       "        var url = js_urls[i];\n",
       "        var s = document.createElement('script');\n",
       "        s.src = url;\n",
       "        s.async = false;\n",
       "        s.onreadystatechange = s.onload = function() {\n",
       "          window._bokeh_is_loading--;\n",
       "          if (window._bokeh_is_loading === 0) {\n",
       "            console.log(\"Bokeh: all BokehJS libraries loaded\");\n",
       "            run_callbacks()\n",
       "          }\n",
       "        };\n",
       "        s.onerror = function() {\n",
       "          console.warn(\"failed to load library \" + url);\n",
       "        };\n",
       "        console.log(\"Bokeh: injecting script tag for BokehJS library: \", url);\n",
       "        document.getElementsByTagName(\"head\")[0].appendChild(s);\n",
       "      }\n",
       "    };var element = document.getElementById(\"921d1813-b027-4537-b350-06ee308e80e4\");\n",
       "    if (element == null) {\n",
       "      console.log(\"Bokeh: ERROR: autoload.js configured with elementid '921d1813-b027-4537-b350-06ee308e80e4' but no matching script tag was found. \")\n",
       "      return false;\n",
       "    }\n",
       "  \n",
       "    var js_urls = [];\n",
       "  \n",
       "    var inline_js = [\n",
       "      function(Bokeh) {\n",
       "        Bokeh.$(function() {\n",
       "            var docs_json = {\"f3e846c1-95c5-403d-8fbf-d20461e17d91\":{\"roots\":{\"references\":[{\"attributes\":{},\"id\":\"02975f0c-7fcd-46cd-970e-1c90e4e791ce\",\"type\":\"ToolEvents\"},{\"attributes\":{\"dimension\":1,\"plot\":{\"id\":\"85c56fad-fe31-42ae-8ecb-f699d29c225e\",\"subtype\":\"Figure\",\"type\":\"Plot\"},\"ticker\":{\"id\":\"bd4fa4a6-b8d8-493c-91e7-0a773366cecf\",\"type\":\"BasicTicker\"}},\"id\":\"b84e42a2-1e8a-4953-828a-963ace7bf7ac\",\"type\":\"Grid\"},{\"attributes\":{\"callback\":null,\"column_names\":[\"y\",\"x\"],\"data\":{\"x\":[-0.5,1.8333333333333335,4.166666666666667,6.5,8.833333333333334,11.166666666666668,13.5,15.833333333333336,18.166666666666668,20.5],\"y\":[2.75,3.916666666666667,5.083333333333334,6.25,7.416666666666667,8.583333333333334,9.75,10.916666666666668,12.083333333333334,13.25]}},\"id\":\"4f95975b-f369-46bf-b466-aa86512130b4\",\"type\":\"ColumnDataSource\"},{\"attributes\":{},\"id\":\"c7c064fc-475e-439e-b054-eb9edce984df\",\"type\":\"BasicTicker\"},{\"attributes\":{\"background_fill_color\":{\"value\":\"white\"},\"below\":[{\"id\":\"50152e91-fed3-4ac6-a79a-c5836594d692\",\"type\":\"LinearAxis\"}],\"border_fill_color\":{\"value\":\"white\"},\"left\":[{\"id\":\"5682014a-a946-46dc-8341-78c3c711eac5\",\"type\":\"LinearAxis\"}],\"plot_height\":400,\"plot_width\":400,\"renderers\":[{\"id\":\"50152e91-fed3-4ac6-a79a-c5836594d692\",\"type\":\"LinearAxis\"},{\"id\":\"69e21fa2-e530-4e0d-b575-ed5922cdb142\",\"type\":\"Grid\"},{\"id\":\"5682014a-a946-46dc-8341-78c3c711eac5\",\"type\":\"LinearAxis\"},{\"id\":\"b84e42a2-1e8a-4953-828a-963ace7bf7ac\",\"type\":\"Grid\"},{\"id\":\"2054e14c-b52c-43e1-88f9-c6f72ab32976\",\"type\":\"GlyphRenderer\"},{\"id\":\"e2b881db-9152-4873-bddf-511e2052a195\",\"type\":\"GlyphRenderer\"}],\"title\":{\"id\":\"33608cad-64c0-446a-8dde-de7359019406\",\"type\":\"Title\"},\"tool_events\":{\"id\":\"8d4d6f5f-f1cf-45b8-a117-0bfe5b7cbcfe\",\"type\":\"ToolEvents\"},\"toolbar\":{\"id\":\"3d5727e5-6a9d-4078-bddf-4ef54748c757\",\"type\":\"Toolbar\"},\"toolbar_location\":null,\"x_range\":{\"id\":\"f8a9e6dd-7c84-4f97-80f7-e6b79b479605\",\"type\":\"Range1d\"},\"y_range\":{\"id\":\"6400df1c-5c57-4445-a299-e29072f0fd89\",\"type\":\"Range1d\"}},\"id\":\"85c56fad-fe31-42ae-8ecb-f699d29c225e\",\"subtype\":\"Figure\",\"type\":\"Plot\"},{\"attributes\":{\"dimension\":1,\"plot\":{\"id\":\"2075e69e-1376-4add-a0d8-45d19b8c2ad5\",\"subtype\":\"Figure\",\"type\":\"Plot\"},\"ticker\":{\"id\":\"cc8c3259-ed80-431d-9428-afb97d4eca33\",\"type\":\"BasicTicker\"}},\"id\":\"6c68b49b-1d30-4834-8115-c283b14bbec2\",\"type\":\"Grid\"},{\"attributes\":{\"data_source\":{\"id\":\"69a7fd74-84c4-4e87-9edd-9b9fe8e419e6\",\"type\":\"ColumnDataSource\"},\"glyph\":{\"id\":\"400c3c1d-7269-4aa6-b230-b7b81dacf6e6\",\"type\":\"Circle\"},\"hover_glyph\":null,\"nonselection_glyph\":null,\"selection_glyph\":null},\"id\":\"bfc92394-fc98-4ed6-93fc-115a6a4862cb\",\"type\":\"GlyphRenderer\"},{\"attributes\":{\"line_color\":{\"value\":\"red\"},\"line_width\":{\"value\":2},\"x\":{\"field\":\"x\"},\"y\":{\"field\":\"y\"}},\"id\":\"c7254355-4b6f-4f43-af55-9ffb897e5e74\",\"type\":\"Line\"},{\"attributes\":{},\"id\":\"ca02819c-97e9-43e4-ac50-810d56c2c365\",\"type\":\"ToolEvents\"},{\"attributes\":{\"sizing_mode\":\"scale_width\",\"toolbar_location\":\"above\",\"tools\":[{\"id\":\"ad95bc5d-da2c-4679-8dbc-0097b44a0607\",\"type\":\"SaveTool\"},{\"id\":\"249e7e42-c6b9-4e00-a7ed-d9d39693cbda\",\"type\":\"SaveTool\"},{\"id\":\"75aa0717-57d9-40fc-a437-02d4200dcb8f\",\"type\":\"SaveTool\"},{\"id\":\"eb6000b3-e358-4bb4-80f3-bd71c451dee1\",\"type\":\"SaveTool\"}]},\"id\":\"eae566c6-46aa-4648-b2a1-4ccd25465eb3\",\"type\":\"ToolbarBox\"},{\"attributes\":{\"formatter\":{\"id\":\"c16915e6-301d-4ecd-b7db-79697d32ee00\",\"type\":\"BasicTickFormatter\"},\"plot\":{\"id\":\"5cfa8648-115f-4750-8dff-eca5ddd373fb\",\"subtype\":\"Figure\",\"type\":\"Plot\"},\"ticker\":{\"id\":\"163dc8fc-6848-4957-af49-d8da819bf1d7\",\"type\":\"BasicTicker\"}},\"id\":\"f4695942-d865-4923-b5f4-fc9a80d7c4e5\",\"type\":\"LinearAxis\"},{\"attributes\":{},\"id\":\"c17dd28d-f91b-4819-886e-1a5ea69c5e75\",\"type\":\"BasicTicker\"},{\"attributes\":{\"plot\":null,\"text\":\"III\"},\"id\":\"1227b647-379c-4d88-8f79-9af4dcb80b89\",\"type\":\"Title\"},{\"attributes\":{\"callback\":null,\"end\":20.5,\"start\":-0.5},\"id\":\"f8a9e6dd-7c84-4f97-80f7-e6b79b479605\",\"type\":\"Range1d\"},{\"attributes\":{\"formatter\":{\"id\":\"84341bfa-4087-4350-b61e-6d108e0b4571\",\"type\":\"BasicTickFormatter\"},\"plot\":{\"id\":\"3ecb5024-1347-4f56-8e85-eea130eb46a1\",\"subtype\":\"Figure\",\"type\":\"Plot\"},\"ticker\":{\"id\":\"c7c064fc-475e-439e-b054-eb9edce984df\",\"type\":\"BasicTicker\"}},\"id\":\"87c70fac-8054-4191-8c30-481a8d7a58bf\",\"type\":\"LinearAxis\"},{\"attributes\":{},\"id\":\"84341bfa-4087-4350-b61e-6d108e0b4571\",\"type\":\"BasicTickFormatter\"},{\"attributes\":{},\"id\":\"667b4784-a5a9-4047-b601-49d3a1ac3fa0\",\"type\":\"BasicTicker\"},{\"attributes\":{\"plot\":null,\"text\":\"II\"},\"id\":\"2f390b47-4d94-4cac-a327-c52e1bdacb30\",\"type\":\"Title\"},{\"attributes\":{},\"id\":\"9ca41bf4-beae-4065-843a-fa9b04a18f2a\",\"type\":\"BasicTickFormatter\"},{\"attributes\":{\"active_drag\":\"auto\",\"active_scroll\":\"auto\",\"active_tap\":\"auto\",\"tools\":[{\"id\":\"eb6000b3-e358-4bb4-80f3-bd71c451dee1\",\"type\":\"SaveTool\"}]},\"id\":\"3d5727e5-6a9d-4078-bddf-4ef54748c757\",\"type\":\"Toolbar\"},{\"attributes\":{},\"id\":\"163dc8fc-6848-4957-af49-d8da819bf1d7\",\"type\":\"BasicTicker\"},{\"attributes\":{\"fill_alpha\":{\"value\":0.5},\"fill_color\":{\"value\":\"orange\"},\"line_alpha\":{\"value\":0},\"size\":{\"units\":\"screen\",\"value\":12},\"x\":{\"field\":\"xiii\"},\"y\":{\"field\":\"yiii\"}},\"id\":\"4e608ee6-c6b0-426d-801b-bf7abea584d5\",\"type\":\"Circle\"},{\"attributes\":{\"plot\":{\"id\":\"85c56fad-fe31-42ae-8ecb-f699d29c225e\",\"subtype\":\"Figure\",\"type\":\"Plot\"}},\"id\":\"eb6000b3-e358-4bb4-80f3-bd71c451dee1\",\"type\":\"SaveTool\"},{\"attributes\":{\"plot\":{\"id\":\"2075e69e-1376-4add-a0d8-45d19b8c2ad5\",\"subtype\":\"Figure\",\"type\":\"Plot\"},\"ticker\":{\"id\":\"1c83bffe-df1c-4823-a2ec-3314c652eda5\",\"type\":\"BasicTicker\"}},\"id\":\"96937200-adb7-44af-a36a-40f2ea56c16c\",\"type\":\"Grid\"},{\"attributes\":{\"formatter\":{\"id\":\"9ca41bf4-beae-4065-843a-fa9b04a18f2a\",\"type\":\"BasicTickFormatter\"},\"plot\":{\"id\":\"85c56fad-fe31-42ae-8ecb-f699d29c225e\",\"subtype\":\"Figure\",\"type\":\"Plot\"},\"ticker\":{\"id\":\"c17dd28d-f91b-4819-886e-1a5ea69c5e75\",\"type\":\"BasicTicker\"}},\"id\":\"50152e91-fed3-4ac6-a79a-c5836594d692\",\"type\":\"LinearAxis\"},{\"attributes\":{},\"id\":\"e767882e-7f11-4a46-b924-97a23c53adc1\",\"type\":\"ToolEvents\"},{\"attributes\":{\"data_source\":{\"id\":\"4f95975b-f369-46bf-b466-aa86512130b4\",\"type\":\"ColumnDataSource\"},\"glyph\":{\"id\":\"4f6da6c3-587f-41b8-819a-838f3faef4cb\",\"type\":\"Line\"},\"hover_glyph\":null,\"nonselection_glyph\":null,\"selection_glyph\":null},\"id\":\"eddc5ad1-13c4-42c7-99d9-773e1e732c40\",\"type\":\"GlyphRenderer\"},{\"attributes\":{\"plot\":{\"id\":\"3ecb5024-1347-4f56-8e85-eea130eb46a1\",\"subtype\":\"Figure\",\"type\":\"Plot\"}},\"id\":\"249e7e42-c6b9-4e00-a7ed-d9d39693cbda\",\"type\":\"SaveTool\"},{\"attributes\":{\"line_color\":{\"value\":\"red\"},\"line_width\":{\"value\":2},\"x\":{\"field\":\"x\"},\"y\":{\"field\":\"y\"}},\"id\":\"4f6da6c3-587f-41b8-819a-838f3faef4cb\",\"type\":\"Line\"},{\"attributes\":{},\"id\":\"6496910f-00c9-4cc9-9762-0530e8de06fc\",\"type\":\"BasicTickFormatter\"},{\"attributes\":{\"formatter\":{\"id\":\"d91f5f1a-12e8-46ea-8804-8556bb4a0a16\",\"type\":\"BasicTickFormatter\"},\"plot\":{\"id\":\"5cfa8648-115f-4750-8dff-eca5ddd373fb\",\"subtype\":\"Figure\",\"type\":\"Plot\"},\"ticker\":{\"id\":\"e2db45e7-46af-4ec4-ab3c-0e8fdca4a984\",\"type\":\"BasicTicker\"}},\"id\":\"de8e962e-5a74-4b4d-a314-8221c1c4fc07\",\"type\":\"LinearAxis\"},{\"attributes\":{\"plot\":{\"id\":\"85c56fad-fe31-42ae-8ecb-f699d29c225e\",\"subtype\":\"Figure\",\"type\":\"Plot\"},\"ticker\":{\"id\":\"c17dd28d-f91b-4819-886e-1a5ea69c5e75\",\"type\":\"BasicTicker\"}},\"id\":\"69e21fa2-e530-4e0d-b575-ed5922cdb142\",\"type\":\"Grid\"},{\"attributes\":{},\"id\":\"c16915e6-301d-4ecd-b7db-79697d32ee00\",\"type\":\"BasicTickFormatter\"},{\"attributes\":{\"plot\":{\"id\":\"3ecb5024-1347-4f56-8e85-eea130eb46a1\",\"subtype\":\"Figure\",\"type\":\"Plot\"},\"ticker\":{\"id\":\"667b4784-a5a9-4047-b601-49d3a1ac3fa0\",\"type\":\"BasicTicker\"}},\"id\":\"ae278d22-4079-4fde-8ba4-ceebc1c1df0d\",\"type\":\"Grid\"},{\"attributes\":{\"line_color\":{\"value\":\"red\"},\"line_width\":{\"value\":2},\"x\":{\"field\":\"x\"},\"y\":{\"field\":\"y\"}},\"id\":\"e7d62ecd-c074-420f-b254-4be4c5d7be1a\",\"type\":\"Line\"},{\"attributes\":{\"children\":[{\"id\":\"5c627517-fbf2-4cef-9fe3-87fde68e00e2\",\"type\":\"Row\"},{\"id\":\"b67b8fab-fc8e-4928-924e-c288355fb998\",\"type\":\"Row\"}]},\"id\":\"867c4584-6349-43c6-95e1-7c8836b0b0d9\",\"type\":\"Column\"},{\"attributes\":{},\"id\":\"b2411e18-1e39-49a7-8f37-bcd27c6e5407\",\"type\":\"BasicTickFormatter\"},{\"attributes\":{\"formatter\":{\"id\":\"b2411e18-1e39-49a7-8f37-bcd27c6e5407\",\"type\":\"BasicTickFormatter\"},\"plot\":{\"id\":\"2075e69e-1376-4add-a0d8-45d19b8c2ad5\",\"subtype\":\"Figure\",\"type\":\"Plot\"},\"ticker\":{\"id\":\"1c83bffe-df1c-4823-a2ec-3314c652eda5\",\"type\":\"BasicTicker\"}},\"id\":\"862cb58f-6728-4f1b-b23e-a5d68c276360\",\"type\":\"LinearAxis\"},{\"attributes\":{},\"id\":\"8d4d6f5f-f1cf-45b8-a117-0bfe5b7cbcfe\",\"type\":\"ToolEvents\"},{\"attributes\":{\"fill_alpha\":{\"value\":0.5},\"fill_color\":{\"value\":\"orange\"},\"line_alpha\":{\"value\":0},\"size\":{\"units\":\"screen\",\"value\":12},\"x\":{\"field\":\"xii\"},\"y\":{\"field\":\"yii\"}},\"id\":\"320df7fd-365c-4495-aef3-3152e9ef9b1a\",\"type\":\"Circle\"},{\"attributes\":{\"data_source\":{\"id\":\"69a7fd74-84c4-4e87-9edd-9b9fe8e419e6\",\"type\":\"ColumnDataSource\"},\"glyph\":{\"id\":\"4e608ee6-c6b0-426d-801b-bf7abea584d5\",\"type\":\"Circle\"},\"hover_glyph\":null,\"nonselection_glyph\":null,\"selection_glyph\":null},\"id\":\"f639b582-4906-4a7c-a91d-9bb09223d5ae\",\"type\":\"GlyphRenderer\"},{\"attributes\":{},\"id\":\"d91f5f1a-12e8-46ea-8804-8556bb4a0a16\",\"type\":\"BasicTickFormatter\"},{\"attributes\":{\"formatter\":{\"id\":\"6496910f-00c9-4cc9-9762-0530e8de06fc\",\"type\":\"BasicTickFormatter\"},\"plot\":{\"id\":\"3ecb5024-1347-4f56-8e85-eea130eb46a1\",\"subtype\":\"Figure\",\"type\":\"Plot\"},\"ticker\":{\"id\":\"667b4784-a5a9-4047-b601-49d3a1ac3fa0\",\"type\":\"BasicTicker\"}},\"id\":\"493e3202-e515-49e6-893b-d27efc49e7fe\",\"type\":\"LinearAxis\"},{\"attributes\":{\"formatter\":{\"id\":\"71fb00be-10df-4f4c-86be-e7bb4900a09b\",\"type\":\"BasicTickFormatter\"},\"plot\":{\"id\":\"2075e69e-1376-4add-a0d8-45d19b8c2ad5\",\"subtype\":\"Figure\",\"type\":\"Plot\"},\"ticker\":{\"id\":\"cc8c3259-ed80-431d-9428-afb97d4eca33\",\"type\":\"BasicTicker\"}},\"id\":\"85e4ea45-03e4-4308-a3f2-75c484bd4360\",\"type\":\"LinearAxis\"},{\"attributes\":{\"active_drag\":\"auto\",\"active_scroll\":\"auto\",\"active_tap\":\"auto\",\"tools\":[{\"id\":\"249e7e42-c6b9-4e00-a7ed-d9d39693cbda\",\"type\":\"SaveTool\"}]},\"id\":\"6535f25d-38f8-49c3-a4fb-6c5a97160754\",\"type\":\"Toolbar\"},{\"attributes\":{\"plot\":{\"id\":\"5cfa8648-115f-4750-8dff-eca5ddd373fb\",\"subtype\":\"Figure\",\"type\":\"Plot\"}},\"id\":\"ad95bc5d-da2c-4679-8dbc-0097b44a0607\",\"type\":\"SaveTool\"},{\"attributes\":{\"children\":[{\"id\":\"eae566c6-46aa-4648-b2a1-4ccd25465eb3\",\"type\":\"ToolbarBox\"},{\"id\":\"867c4584-6349-43c6-95e1-7c8836b0b0d9\",\"type\":\"Column\"}]},\"id\":\"e9db98f2-3c7e-4cf7-944d-6c2808f2553c\",\"type\":\"Column\"},{\"attributes\":{\"fill_alpha\":{\"value\":0.5},\"fill_color\":{\"value\":\"orange\"},\"line_alpha\":{\"value\":0},\"size\":{\"units\":\"screen\",\"value\":12},\"x\":{\"field\":\"xiv\"},\"y\":{\"field\":\"yiv\"}},\"id\":\"61ddd5e2-34c4-4ebe-a9c8-a3794d06fe8c\",\"type\":\"Circle\"},{\"attributes\":{},\"id\":\"71fb00be-10df-4f4c-86be-e7bb4900a09b\",\"type\":\"BasicTickFormatter\"},{\"attributes\":{\"formatter\":{\"id\":\"6a717028-984d-4418-a004-a00308b20f41\",\"type\":\"BasicTickFormatter\"},\"plot\":{\"id\":\"85c56fad-fe31-42ae-8ecb-f699d29c225e\",\"subtype\":\"Figure\",\"type\":\"Plot\"},\"ticker\":{\"id\":\"bd4fa4a6-b8d8-493c-91e7-0a773366cecf\",\"type\":\"BasicTicker\"}},\"id\":\"5682014a-a946-46dc-8341-78c3c711eac5\",\"type\":\"LinearAxis\"},{\"attributes\":{\"callback\":null,\"column_names\":[\"yiii\",\"yi\",\"xi\",\"xii\",\"yii\",\"yiv\",\"xiv\",\"xiii\"],\"data\":{\"xi\":[10.0,8.0,13.0,9.0,11.0,14.0,6.0,4.0,12.0,7.0,5.0],\"xii\":[10.0,8.0,13.0,9.0,11.0,14.0,6.0,4.0,12.0,7.0,5.0],\"xiii\":[10.0,8.0,13.0,9.0,11.0,14.0,6.0,4.0,12.0,7.0,5.0],\"xiv\":[8.0,8.0,8.0,8.0,8.0,8.0,8.0,19.0,8.0,8.0,8.0],\"yi\":[8.04,6.95,7.58,8.81,8.33,9.96,7.24,4.26,10.84,4.82,5.68],\"yii\":[9.14,8.14,8.74,8.77,9.26,8.1,6.13,3.1,9.13,7.26,4.74],\"yiii\":[7.46,6.77,12.74,7.11,7.81,8.84,6.08,5.39,8.15,6.42,5.73],\"yiv\":[6.58,5.76,7.71,8.84,8.47,7.04,5.25,12.5,5.56,7.91,6.89]}},\"id\":\"69a7fd74-84c4-4e87-9edd-9b9fe8e419e6\",\"type\":\"ColumnDataSource\"},{\"attributes\":{\"children\":[{\"id\":\"5cfa8648-115f-4750-8dff-eca5ddd373fb\",\"subtype\":\"Figure\",\"type\":\"Plot\"},{\"id\":\"3ecb5024-1347-4f56-8e85-eea130eb46a1\",\"subtype\":\"Figure\",\"type\":\"Plot\"}]},\"id\":\"5c627517-fbf2-4cef-9fe3-87fde68e00e2\",\"type\":\"Row\"},{\"attributes\":{\"line_color\":{\"value\":\"red\"},\"line_width\":{\"value\":2},\"x\":{\"field\":\"x\"},\"y\":{\"field\":\"y\"}},\"id\":\"f96093d9-0d53-4e77-9933-5e01d815cb1e\",\"type\":\"Line\"},{\"attributes\":{\"callback\":null,\"end\":20.5,\"start\":-0.5},\"id\":\"6400df1c-5c57-4445-a299-e29072f0fd89\",\"type\":\"Range1d\"},{\"attributes\":{\"data_source\":{\"id\":\"4f95975b-f369-46bf-b466-aa86512130b4\",\"type\":\"ColumnDataSource\"},\"glyph\":{\"id\":\"f96093d9-0d53-4e77-9933-5e01d815cb1e\",\"type\":\"Line\"},\"hover_glyph\":null,\"nonselection_glyph\":null,\"selection_glyph\":null},\"id\":\"b4e7cc31-257b-429a-b99c-9da0f73d800c\",\"type\":\"GlyphRenderer\"},{\"attributes\":{\"plot\":null,\"text\":\"IV\"},\"id\":\"33608cad-64c0-446a-8dde-de7359019406\",\"type\":\"Title\"},{\"attributes\":{\"background_fill_color\":{\"value\":\"white\"},\"below\":[{\"id\":\"f4695942-d865-4923-b5f4-fc9a80d7c4e5\",\"type\":\"LinearAxis\"}],\"border_fill_color\":{\"value\":\"white\"},\"left\":[{\"id\":\"de8e962e-5a74-4b4d-a314-8221c1c4fc07\",\"type\":\"LinearAxis\"}],\"plot_height\":400,\"plot_width\":400,\"renderers\":[{\"id\":\"f4695942-d865-4923-b5f4-fc9a80d7c4e5\",\"type\":\"LinearAxis\"},{\"id\":\"a4812c47-961c-400c-b5fc-f08ee1949c34\",\"type\":\"Grid\"},{\"id\":\"de8e962e-5a74-4b4d-a314-8221c1c4fc07\",\"type\":\"LinearAxis\"},{\"id\":\"693b04c7-9d96-4dd7-be0b-e7485d493f9f\",\"type\":\"Grid\"},{\"id\":\"f8801bea-e177-464d-9f77-e0d6bbf7c9bd\",\"type\":\"GlyphRenderer\"},{\"id\":\"bfc92394-fc98-4ed6-93fc-115a6a4862cb\",\"type\":\"GlyphRenderer\"}],\"title\":{\"id\":\"1356ef62-5c08-4e9b-b36a-ce7558ee7753\",\"type\":\"Title\"},\"tool_events\":{\"id\":\"02975f0c-7fcd-46cd-970e-1c90e4e791ce\",\"type\":\"ToolEvents\"},\"toolbar\":{\"id\":\"4c2daeb1-75a8-430c-9cd0-f35999dfd82f\",\"type\":\"Toolbar\"},\"toolbar_location\":null,\"x_range\":{\"id\":\"f8a9e6dd-7c84-4f97-80f7-e6b79b479605\",\"type\":\"Range1d\"},\"y_range\":{\"id\":\"6400df1c-5c57-4445-a299-e29072f0fd89\",\"type\":\"Range1d\"}},\"id\":\"5cfa8648-115f-4750-8dff-eca5ddd373fb\",\"subtype\":\"Figure\",\"type\":\"Plot\"},{\"attributes\":{},\"id\":\"6a717028-984d-4418-a004-a00308b20f41\",\"type\":\"BasicTickFormatter\"},{\"attributes\":{},\"id\":\"1c83bffe-df1c-4823-a2ec-3314c652eda5\",\"type\":\"BasicTicker\"},{\"attributes\":{\"data_source\":{\"id\":\"69a7fd74-84c4-4e87-9edd-9b9fe8e419e6\",\"type\":\"ColumnDataSource\"},\"glyph\":{\"id\":\"61ddd5e2-34c4-4ebe-a9c8-a3794d06fe8c\",\"type\":\"Circle\"},\"hover_glyph\":null,\"nonselection_glyph\":null,\"selection_glyph\":null},\"id\":\"e2b881db-9152-4873-bddf-511e2052a195\",\"type\":\"GlyphRenderer\"},{\"attributes\":{\"background_fill_color\":{\"value\":\"white\"},\"below\":[{\"id\":\"493e3202-e515-49e6-893b-d27efc49e7fe\",\"type\":\"LinearAxis\"}],\"border_fill_color\":{\"value\":\"white\"},\"left\":[{\"id\":\"87c70fac-8054-4191-8c30-481a8d7a58bf\",\"type\":\"LinearAxis\"}],\"plot_height\":400,\"plot_width\":400,\"renderers\":[{\"id\":\"493e3202-e515-49e6-893b-d27efc49e7fe\",\"type\":\"LinearAxis\"},{\"id\":\"ae278d22-4079-4fde-8ba4-ceebc1c1df0d\",\"type\":\"Grid\"},{\"id\":\"87c70fac-8054-4191-8c30-481a8d7a58bf\",\"type\":\"LinearAxis\"},{\"id\":\"e7140029-6215-49c9-b50c-9444c0238727\",\"type\":\"Grid\"},{\"id\":\"eddc5ad1-13c4-42c7-99d9-773e1e732c40\",\"type\":\"GlyphRenderer\"},{\"id\":\"46684be3-fec4-41c8-9360-6d5217a868eb\",\"type\":\"GlyphRenderer\"}],\"title\":{\"id\":\"2f390b47-4d94-4cac-a327-c52e1bdacb30\",\"type\":\"Title\"},\"tool_events\":{\"id\":\"ca02819c-97e9-43e4-ac50-810d56c2c365\",\"type\":\"ToolEvents\"},\"toolbar\":{\"id\":\"6535f25d-38f8-49c3-a4fb-6c5a97160754\",\"type\":\"Toolbar\"},\"toolbar_location\":null,\"x_range\":{\"id\":\"f8a9e6dd-7c84-4f97-80f7-e6b79b479605\",\"type\":\"Range1d\"},\"y_range\":{\"id\":\"6400df1c-5c57-4445-a299-e29072f0fd89\",\"type\":\"Range1d\"}},\"id\":\"3ecb5024-1347-4f56-8e85-eea130eb46a1\",\"subtype\":\"Figure\",\"type\":\"Plot\"},{\"attributes\":{\"dimension\":1,\"plot\":{\"id\":\"3ecb5024-1347-4f56-8e85-eea130eb46a1\",\"subtype\":\"Figure\",\"type\":\"Plot\"},\"ticker\":{\"id\":\"c7c064fc-475e-439e-b054-eb9edce984df\",\"type\":\"BasicTicker\"}},\"id\":\"e7140029-6215-49c9-b50c-9444c0238727\",\"type\":\"Grid\"},{\"attributes\":{\"background_fill_color\":{\"value\":\"white\"},\"below\":[{\"id\":\"862cb58f-6728-4f1b-b23e-a5d68c276360\",\"type\":\"LinearAxis\"}],\"border_fill_color\":{\"value\":\"white\"},\"left\":[{\"id\":\"85e4ea45-03e4-4308-a3f2-75c484bd4360\",\"type\":\"LinearAxis\"}],\"plot_height\":400,\"plot_width\":400,\"renderers\":[{\"id\":\"862cb58f-6728-4f1b-b23e-a5d68c276360\",\"type\":\"LinearAxis\"},{\"id\":\"96937200-adb7-44af-a36a-40f2ea56c16c\",\"type\":\"Grid\"},{\"id\":\"85e4ea45-03e4-4308-a3f2-75c484bd4360\",\"type\":\"LinearAxis\"},{\"id\":\"6c68b49b-1d30-4834-8115-c283b14bbec2\",\"type\":\"Grid\"},{\"id\":\"b4e7cc31-257b-429a-b99c-9da0f73d800c\",\"type\":\"GlyphRenderer\"},{\"id\":\"f639b582-4906-4a7c-a91d-9bb09223d5ae\",\"type\":\"GlyphRenderer\"}],\"title\":{\"id\":\"1227b647-379c-4d88-8f79-9af4dcb80b89\",\"type\":\"Title\"},\"tool_events\":{\"id\":\"e767882e-7f11-4a46-b924-97a23c53adc1\",\"type\":\"ToolEvents\"},\"toolbar\":{\"id\":\"d7f43d45-4d3a-43e9-a06f-6f3584926898\",\"type\":\"Toolbar\"},\"toolbar_location\":null,\"x_range\":{\"id\":\"f8a9e6dd-7c84-4f97-80f7-e6b79b479605\",\"type\":\"Range1d\"},\"y_range\":{\"id\":\"6400df1c-5c57-4445-a299-e29072f0fd89\",\"type\":\"Range1d\"}},\"id\":\"2075e69e-1376-4add-a0d8-45d19b8c2ad5\",\"subtype\":\"Figure\",\"type\":\"Plot\"},{\"attributes\":{\"plot\":{\"id\":\"2075e69e-1376-4add-a0d8-45d19b8c2ad5\",\"subtype\":\"Figure\",\"type\":\"Plot\"}},\"id\":\"75aa0717-57d9-40fc-a437-02d4200dcb8f\",\"type\":\"SaveTool\"},{\"attributes\":{},\"id\":\"e2db45e7-46af-4ec4-ab3c-0e8fdca4a984\",\"type\":\"BasicTicker\"},{\"attributes\":{\"data_source\":{\"id\":\"4f95975b-f369-46bf-b466-aa86512130b4\",\"type\":\"ColumnDataSource\"},\"glyph\":{\"id\":\"e7d62ecd-c074-420f-b254-4be4c5d7be1a\",\"type\":\"Line\"},\"hover_glyph\":null,\"nonselection_glyph\":null,\"selection_glyph\":null},\"id\":\"f8801bea-e177-464d-9f77-e0d6bbf7c9bd\",\"type\":\"GlyphRenderer\"},{\"attributes\":{\"plot\":null,\"text\":\"I\"},\"id\":\"1356ef62-5c08-4e9b-b36a-ce7558ee7753\",\"type\":\"Title\"},{\"attributes\":{\"data_source\":{\"id\":\"4f95975b-f369-46bf-b466-aa86512130b4\",\"type\":\"ColumnDataSource\"},\"glyph\":{\"id\":\"c7254355-4b6f-4f43-af55-9ffb897e5e74\",\"type\":\"Line\"},\"hover_glyph\":null,\"nonselection_glyph\":null,\"selection_glyph\":null},\"id\":\"2054e14c-b52c-43e1-88f9-c6f72ab32976\",\"type\":\"GlyphRenderer\"},{\"attributes\":{\"fill_alpha\":{\"value\":0.5},\"fill_color\":{\"value\":\"orange\"},\"line_alpha\":{\"value\":0},\"size\":{\"units\":\"screen\",\"value\":12},\"x\":{\"field\":\"xi\"},\"y\":{\"field\":\"yi\"}},\"id\":\"400c3c1d-7269-4aa6-b230-b7b81dacf6e6\",\"type\":\"Circle\"},{\"attributes\":{\"plot\":{\"id\":\"5cfa8648-115f-4750-8dff-eca5ddd373fb\",\"subtype\":\"Figure\",\"type\":\"Plot\"},\"ticker\":{\"id\":\"163dc8fc-6848-4957-af49-d8da819bf1d7\",\"type\":\"BasicTicker\"}},\"id\":\"a4812c47-961c-400c-b5fc-f08ee1949c34\",\"type\":\"Grid\"},{\"attributes\":{\"active_drag\":\"auto\",\"active_scroll\":\"auto\",\"active_tap\":\"auto\",\"tools\":[{\"id\":\"75aa0717-57d9-40fc-a437-02d4200dcb8f\",\"type\":\"SaveTool\"}]},\"id\":\"d7f43d45-4d3a-43e9-a06f-6f3584926898\",\"type\":\"Toolbar\"},{\"attributes\":{\"children\":[{\"id\":\"2075e69e-1376-4add-a0d8-45d19b8c2ad5\",\"subtype\":\"Figure\",\"type\":\"Plot\"},{\"id\":\"85c56fad-fe31-42ae-8ecb-f699d29c225e\",\"subtype\":\"Figure\",\"type\":\"Plot\"}]},\"id\":\"b67b8fab-fc8e-4928-924e-c288355fb998\",\"type\":\"Row\"},{\"attributes\":{},\"id\":\"cc8c3259-ed80-431d-9428-afb97d4eca33\",\"type\":\"BasicTicker\"},{\"attributes\":{},\"id\":\"bd4fa4a6-b8d8-493c-91e7-0a773366cecf\",\"type\":\"BasicTicker\"},{\"attributes\":{\"dimension\":1,\"plot\":{\"id\":\"5cfa8648-115f-4750-8dff-eca5ddd373fb\",\"subtype\":\"Figure\",\"type\":\"Plot\"},\"ticker\":{\"id\":\"e2db45e7-46af-4ec4-ab3c-0e8fdca4a984\",\"type\":\"BasicTicker\"}},\"id\":\"693b04c7-9d96-4dd7-be0b-e7485d493f9f\",\"type\":\"Grid\"},{\"attributes\":{\"active_drag\":\"auto\",\"active_scroll\":\"auto\",\"active_tap\":\"auto\",\"tools\":[{\"id\":\"ad95bc5d-da2c-4679-8dbc-0097b44a0607\",\"type\":\"SaveTool\"}]},\"id\":\"4c2daeb1-75a8-430c-9cd0-f35999dfd82f\",\"type\":\"Toolbar\"},{\"attributes\":{\"data_source\":{\"id\":\"69a7fd74-84c4-4e87-9edd-9b9fe8e419e6\",\"type\":\"ColumnDataSource\"},\"glyph\":{\"id\":\"320df7fd-365c-4495-aef3-3152e9ef9b1a\",\"type\":\"Circle\"},\"hover_glyph\":null,\"nonselection_glyph\":null,\"selection_glyph\":null},\"id\":\"46684be3-fec4-41c8-9360-6d5217a868eb\",\"type\":\"GlyphRenderer\"}],\"root_ids\":[\"e9db98f2-3c7e-4cf7-944d-6c2808f2553c\"]},\"title\":\"Bokeh Application\",\"version\":\"0.12.0\"}};\n",
       "            var render_items = [{\"docid\":\"f3e846c1-95c5-403d-8fbf-d20461e17d91\",\"elementid\":\"921d1813-b027-4537-b350-06ee308e80e4\",\"modelid\":\"e9db98f2-3c7e-4cf7-944d-6c2808f2553c\",\"notebook_comms_target\":\"1815407f-5ea4-4d8e-83e1-025f9a84c4a5\"}];\n",
       "            \n",
       "            Bokeh.embed.embed_items(docs_json, render_items);\n",
       "        });\n",
       "      },\n",
       "      function(Bokeh) {\n",
       "      }\n",
       "    ];\n",
       "  \n",
       "    function run_inline_js() {\n",
       "      for (var i = 0; i < inline_js.length; i++) {\n",
       "        inline_js[i](window.Bokeh);\n",
       "      }\n",
       "    }\n",
       "  \n",
       "    if (window._bokeh_is_loading === 0) {\n",
       "      console.log(\"Bokeh: BokehJS loaded, going straight to plotting\");\n",
       "      run_inline_js();\n",
       "    } else {\n",
       "      load_libs(js_urls, function() {\n",
       "        console.log(\"Bokeh: BokehJS plotting callback run at\", now());\n",
       "        run_inline_js();\n",
       "      });\n",
       "    }\n",
       "  }(this));\n",
       "</script>"
      ]
     },
     "metadata": {},
     "output_type": "display_data"
    },
    {
     "data": {
      "text/html": [
       "<p><code>&lt;Bokeh Notebook handle for <strong>In[3]</strong>&gt;</code></p>"
      ],
      "text/plain": [
       "<bokeh.io._CommsHandle at 0x114193a50>"
      ]
     },
     "execution_count": 43,
     "metadata": {},
     "output_type": "execute_result"
    }
   ],
   "source": [
    "show(grid)"
   ]
  },
  {
   "cell_type": "markdown",
   "metadata": {},
   "source": [
    "- One of the great strengths of data visualization is our ability to process visual information much more rapidly than verbal information.  \n",
    "- differences in length, size, hue, color intensity, angle, texture, shape, and so on, as the building blocks of data visualization.  \n",
    "- When we do so in an informed manner, we have the ability to transfer much of the work that is needed to decode the contents of a visual display, such as a graph, from the slower conscious, energy intensive parts of the brain to the faster parts of the brain that require less energy, which results in more efficient cognition.  \n",
    "- Good data visualization techniques and technologies, properly used, can extend our thinking into new realms of analytical sensemaking, and we are still only beginning to tap into this potential."
   ]
  },
  {
   "cell_type": "markdown",
   "metadata": {},
   "source": [
    "#### Tufte's criteria for good visualization:  \n",
    "- Graphical Excellence  \n",
    "- Visual Integrity\n",
    "- Maximizing the Data-Ink Ratio\n",
    "- Aesthetic Elegance"
   ]
  },
  {
   "cell_type": "code",
   "execution_count": null,
   "metadata": {
    "collapsed": true
   },
   "outputs": [],
   "source": []
  }
 ],
 "metadata": {
  "kernelspec": {
   "display_name": "Python 2",
   "language": "python",
   "name": "python2"
  },
  "language_info": {
   "codemirror_mode": {
    "name": "ipython",
    "version": 2
   },
   "file_extension": ".py",
   "mimetype": "text/x-python",
   "name": "python",
   "nbconvert_exporter": "python",
   "pygments_lexer": "ipython2",
   "version": "2.7.11"
  }
 },
 "nbformat": 4,
 "nbformat_minor": 0
}
